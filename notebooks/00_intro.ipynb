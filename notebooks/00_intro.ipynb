{
 "cells": [
  {
   "cell_type": "markdown",
   "metadata": {},
   "source": [
    "# Imports"
   ]
  },
  {
   "cell_type": "code",
   "execution_count": 2,
   "metadata": {},
   "outputs": [],
   "source": [
    "# Basic Python data structures and useful techniques\n",
    "import pandas as pd\n",
    "import numpy as np\n",
    "import matplotlib.pyplot as plt\n",
    "import plotly.express as px\n",
    "import seaborn as sns\n",
    "import json\n",
    "from datetime import datetime, timedelta\n"
   ]
  },
  {
   "cell_type": "markdown",
   "metadata": {},
   "source": [
    "## Data Structures and Generation\n",
    "This section covers basic Python data structures and techniques including string manipulation, lists, dictionaries, and data generation."
   ]
  },
  {
   "cell_type": "code",
   "execution_count": 3,
   "metadata": {},
   "outputs": [
    {
     "name": "stdout",
     "output_type": "stream",
     "text": [
      "Location: Seattle, Washington\n",
      "City in lowercase: seattle\n",
      "State in uppercase: WASHINGTON\n",
      "Region contains 'Pacific': True\n",
      "Location with replacement: SEA, Washington\n"
     ]
    }
   ],
   "source": [
    "\n",
    "# String manipulations\n",
    "city_name = \"Seattle\"\n",
    "state = \"Washington\"\n",
    "region = \"Pacific Northwest\"\n",
    "\n",
    "# String operations and f-strings\n",
    "location = f\"{city_name}, {state}\"\n",
    "print(f\"Location: {location}\")\n",
    "print(f\"City in lowercase: {city_name.lower()}\")\n",
    "print(f\"State in uppercase: {state.upper()}\")\n",
    "print(f\"Region contains 'Pacific': {'Pacific' in region}\")\n",
    "print(f\"Location with replacement: {location.replace('Seattle', 'SEA')}\")\n"
   ]
  },
  {
   "cell_type": "code",
   "execution_count": 4,
   "metadata": {},
   "outputs": [
    {
     "name": "stdout",
     "output_type": "stream",
     "text": [
      "\n",
      "Monthly rainfall using enumerate:\n",
      "  1. Jan: 5.6 inches\n",
      "  2. Feb: 3.5 inches\n",
      "  3. Mar: 4.2 inches\n",
      "  4. Apr: 2.7 inches\n",
      "  5. May: 2.0 inches\n",
      "  6. Jun: 1.6 inches\n",
      "  7. Jul: 0.8 inches\n",
      "  8. Aug: 1.0 inches\n",
      "  9. Sep: 1.5 inches\n",
      "  10. Oct: 3.5 inches\n",
      "  11. Nov: 6.1 inches\n",
      "  12. Dec: 5.9 inches\n",
      "\n",
      "Monthly rainfall using zip:\n",
      "  1. Jan: 5.6 inches\n",
      "  2. Feb: 3.5 inches\n",
      "  3. Mar: 4.2 inches\n",
      "  4. Apr: 2.7 inches\n",
      "  5. May: 2.0 inches\n",
      "  6. Jun: 1.6 inches\n",
      "  7. Jul: 0.8 inches\n",
      "  8. Aug: 1.0 inches\n",
      "  9. Sep: 1.5 inches\n",
      "  10. Oct: 3.5 inches\n",
      "  11. Nov: 6.1 inches\n",
      "  12. Dec: 5.9 inches\n"
     ]
    }
   ],
   "source": [
    "\n",
    "# List operations\n",
    "months = [\"Jan\", \"Feb\", \"Mar\", \"Apr\", \"May\", \"Jun\", \"Jul\", \"Aug\", \"Sep\", \"Oct\", \"Nov\", \"Dec\"]\n",
    "rainfall = [5.6, 3.5, 4.2, 2.7, 2.0, 1.6, 0.8, 1.0, 1.5, 3.5, 6.1, 5.9]\n",
    "\n",
    "# Enumerate demonstration\n",
    "print(\"\\nMonthly rainfall using enumerate:\")\n",
    "for i, month in enumerate(months):\n",
    "    print(f\"  {i+1}. {month}: {rainfall[i]} inches\")\n",
    "\n",
    "# Zip demonstration\n",
    "print(\"\\nMonthly rainfall using zip:\")\n",
    "for j, (month, rain) in enumerate(zip(months, rainfall)):\n",
    "    print(f\"  {j+1}. {month}: {rain} inches\")\n"
   ]
  },
  {
   "cell_type": "code",
   "execution_count": 5,
   "metadata": {},
   "outputs": [
    {
     "name": "stdout",
     "output_type": "stream",
     "text": [
      "\n",
      "Dry months (< 2.0 inches rain): Jun, Jul, Aug, Sep\n",
      "\n",
      "Weather dictionary items:\n",
      "  city: Seattle\n",
      "  state: Washington\n",
      "  annual_rainfall: 38.4\n",
      "  data_source: National Weather Service\n",
      "  dry months: ['Jun', 'Jul', 'Aug', 'Sep']\n",
      "  monthly_rainfall: [5.6, 3.5, 4.2, 2.7, 2.0, 1.6, 0.8, 1.0, 1.5, 3.5, 6.1, 5.9]\n"
     ]
    }
   ],
   "source": [
    "\n",
    "# List comprehension with conditional\n",
    "dry_months = [month for month, rain in zip(months, rainfall) if rain < 2.0]\n",
    "print(f\"\\nDry months (< 2.0 inches rain): {', '.join(dry_months)}\")\n",
    "\n",
    "# Dictionary operations\n",
    "weather_dict = {\n",
    "    \"city\": city_name,\n",
    "    \"state\": state,\n",
    "    \"annual_rainfall\": sum(rainfall),\n",
    "    \"data_source\": \"National Weather Service\",\n",
    "    \"dry months\": dry_months,\n",
    "    \"monthly_rainfall\": rainfall\n",
    "}\n",
    "\n",
    "# Dictionary iteration\n",
    "print(\"\\nWeather dictionary items:\")\n",
    "for key, value in weather_dict.items():\n",
    "    print(f\"  {key}: {value}\")"
   ]
  },
  {
   "cell_type": "markdown",
   "metadata": {},
   "source": [
    "## Weather Data Generation\n",
    "Create a synthetic weather dataset with realistic patterns for multiple cities."
   ]
  },
  {
   "cell_type": "code",
   "execution_count": 6,
   "metadata": {},
   "outputs": [
    {
     "name": "stdout",
     "output_type": "stream",
     "text": [
      "Created JSON file with 300 weather records\n"
     ]
    }
   ],
   "source": [
    "# Create a list of weather dictionaries for multiple cities\n",
    "today = datetime.now().strftime(\"%Y-%m-%d\")\n",
    "\n",
    "# Generate a series of dates for time series data\n",
    "dates = [(datetime.now() - timedelta(days=i)).strftime(\"%Y-%m-%d\") for i in range(30, 0, -1)]\n",
    "\n",
    "# Create weather data for multiple cities over time\n",
    "weather_data = []\n",
    "cities = [\"Seattle\", \"Portland\", \"San Francisco\", \"Los Angeles\", \"Denver\", \n",
    "          \"Chicago\", \"New York\", \"Miami\", \"Boston\", \"Austin\"]\n",
    "base_temps = [52, 55, 59, 65, 50, 49, 54, 76, 51, 68]  # Base temperatures for each city\n",
    "\n",
    "for date_idx, date in enumerate(dates):\n",
    "    for city_idx, city in enumerate(cities):\n",
    "        # Create realistic variations in temperature\n",
    "        temp_variation = np.sin(date_idx/5) * 7 + np.random.normal(0, 3)\n",
    "        temperature = round(base_temps[city_idx] + temp_variation, 1)\n",
    "        \n",
    "        # Create realistic humidity based on temperature\n",
    "        humidity = round(max(30, min(90, 70 - temperature/3 + np.random.normal(0, 10))))\n",
    "        \n",
    "        # Determine weather condition based on temperature and randomness\n",
    "        rand = np.random.random()\n",
    "        if temperature < 35:\n",
    "            condition = \"Snowy\" if rand < 0.7 else \"Cloudy\"\n",
    "        elif temperature < 50:\n",
    "            condition = \"Rainy\" if rand < 0.5 else \"Cloudy\" if rand < 0.8 else \"Sunny\"\n",
    "        elif temperature < 65:\n",
    "            condition = \"Sunny\" if rand < 0.6 else \"Cloudy\" if rand < 0.9 else \"Rainy\"\n",
    "        else:\n",
    "            condition = \"Sunny\" if rand < 0.8 else \"Partly Cloudy\"\n",
    "            \n",
    "        weather_data.append({\n",
    "            \"city\": city,\n",
    "            \"date\": date,\n",
    "            \"temperature\": temperature,\n",
    "            \"humidity\": humidity,\n",
    "            \"condition\": condition,\n",
    "            \"precipitation\": round(np.random.gamma(1, 2) if condition in [\"Rainy\", \"Snowy\"] else 0, 1),\n",
    "            \"region\": \"West\" if city_idx < 5 else \"East\"\n",
    "        })\n",
    "\n",
    "# Save as JSON to demonstrate file operations\n",
    "with open('../data/00_intro/weather_data.json', 'w+') as f:\n",
    "    json.dump(weather_data, f)\n",
    "\n",
    "print(f\"Created JSON file with {len(weather_data)} weather records\")"
   ]
  },
  {
   "cell_type": "markdown",
   "metadata": {},
   "source": [
    "## Data Loading and Preparation\n",
    "Load the data from JSON file and prepare it for analysis by creating DataFrames and calculated fields."
   ]
  },
  {
   "cell_type": "code",
   "execution_count": 7,
   "metadata": {},
   "outputs": [
    {
     "name": "stdout",
     "output_type": "stream",
     "text": [
      "Loaded 300 records from JSON file\n",
      "\n",
      "DataFrame preview:\n",
      "            city       date  temperature  humidity condition  precipitation  \\\n",
      "0        Seattle 2025-02-03         56.0        60     Sunny            0.0   \n",
      "1       Portland 2025-02-03         52.9        42     Sunny            0.0   \n",
      "2  San Francisco 2025-02-03         60.3        57     Sunny            0.0   \n",
      "3    Los Angeles 2025-02-03         68.4        35     Sunny            0.0   \n",
      "4         Denver 2025-02-03         47.2        54     Rainy            1.2   \n",
      "\n",
      "  region  temp_celsius  feels_like  \n",
      "0   West          13.3        57.0  \n",
      "1   West          11.6        52.1  \n",
      "2   West          15.7        61.0  \n",
      "3   West          20.2        66.9  \n",
      "4   West           8.4        47.6  \n",
      "\n",
      "Shape: (300, 9)\n",
      "Columns: ['city', 'date', 'temperature', 'humidity', 'condition', 'precipitation', 'region', 'temp_celsius', 'feels_like']\n",
      "Data types:\n",
      "city                     object\n",
      "date             datetime64[ns]\n",
      "temperature             float64\n",
      "humidity                  int64\n",
      "condition                object\n",
      "precipitation           float64\n",
      "region                   object\n",
      "temp_celsius            float64\n",
      "feels_like              float64\n",
      "dtype: object\n"
     ]
    }
   ],
   "source": [
    "# Load the data from JSON file to simulate file reading\n",
    "with open('../data/00_intro/weather_data.json', 'r') as f:\n",
    "    loaded_data = json.load(f)\n",
    "    \n",
    "print(f\"Loaded {len(loaded_data)} records from JSON file\")\n",
    "\n",
    "# Create pandas DataFrame from JSON data\n",
    "df = pd.DataFrame(loaded_data)\n",
    "\n",
    "# Convert date to datetime for time series operations\n",
    "df['date'] = pd.to_datetime(df['date'])\n",
    "\n",
    "# Add useful calculated columns\n",
    "df['temp_celsius'] = round((df['temperature'] - 32) * 5/9, 1)\n",
    "df['feels_like'] = round(df['temperature'] - 5 + (df['humidity'] * 0.1), 1)\n",
    "\n",
    "print(\"\\nDataFrame preview:\")\n",
    "print(df.head())\n",
    "\n",
    "print(f\"\\nShape: {df.shape}\")\n",
    "print(f\"Columns: {df.columns.tolist()}\")\n",
    "print(f\"Data types:\\n{df.dtypes}\")"
   ]
  },
  {
   "cell_type": "markdown",
   "metadata": {},
   "source": [
    "## Basic Data Analysis\n",
    "Perform basic statistical operations on the weather data including mean, median, min, max values, and compute aggregations."
   ]
  },
  {
   "cell_type": "code",
   "execution_count": 8,
   "metadata": {},
   "outputs": [
    {
     "name": "stdout",
     "output_type": "stream",
     "text": [
      "Weather Data - Mean:\n",
      "temperature      57.907667\n",
      "humidity         50.116667\n",
      "precipitation     0.239667\n",
      "temp_celsius     14.394000\n",
      "feels_like       57.919333\n",
      "dtype: float64\n",
      "\n",
      "Weather Data - Median:\n",
      "temperature      56.45\n",
      "humidity         50.00\n",
      "precipitation     0.00\n",
      "temp_celsius     13.60\n",
      "feels_like       56.55\n",
      "dtype: float64\n",
      "\n",
      "Weather Data - Min:\n",
      "temperature      37.6\n",
      "humidity         30.0\n",
      "precipitation     0.0\n",
      "temp_celsius      3.1\n",
      "feels_like       37.4\n",
      "dtype: float64\n",
      "\n",
      "Weather Data - Max:\n",
      "temperature      89.4\n",
      "humidity         88.0\n",
      "precipitation     6.2\n",
      "temp_celsius     31.9\n",
      "feels_like       89.3\n",
      "dtype: float64\n",
      "\n",
      "Weather Data - Grouped by city:\n",
      "              temperature                      humidity         precipitation  \\\n",
      "                     mean median   min   max       mean min max          mean   \n",
      "city                                                                            \n",
      "Austin          68.023333  67.30  55.1  79.3  47.700000  30  64      0.000000   \n",
      "Boston          50.980000  50.85  41.0  63.1  53.266667  30  88      0.833333   \n",
      "Chicago         48.600000  48.15  37.6  60.8  54.166667  31  80      0.366667   \n",
      "Denver          49.476667  49.95  39.3  59.6  51.933333  35  71      0.266667   \n",
      "Los Angeles     65.633333  67.20  52.9  76.4  47.933333  30  63      0.000000   \n",
      "Miami           75.846667  75.05  62.8  89.4  45.766667  30  74      0.000000   \n",
      "New York        53.433333  54.60  44.0  65.3  49.866667  30  68      0.243333   \n",
      "Portland        55.186667  55.55  45.5  67.4  50.666667  38  65      0.336667   \n",
      "San Francisco   59.476667  58.50  50.0  70.6  49.066667  30  80      0.156667   \n",
      "Seattle         52.420000  52.65  44.0  61.6  50.800000  30  68      0.193333   \n",
      "\n",
      "                     \n",
      "                sum  \n",
      "city                 \n",
      "Austin          0.0  \n",
      "Boston         25.0  \n",
      "Chicago        11.0  \n",
      "Denver          8.0  \n",
      "Los Angeles     0.0  \n",
      "Miami           0.0  \n",
      "New York        7.3  \n",
      "Portland       10.1  \n",
      "San Francisco   4.7  \n",
      "Seattle         5.8  \n",
      "\n",
      "Weather Data - Grouped by region:\n",
      "       temperature                      humidity         precipitation      \n",
      "              mean median   min   max       mean min max          mean   sum\n",
      "region                                                                      \n",
      "East     59.376667  57.60  37.6  89.4  50.153333  30  88      0.288667  43.3\n",
      "West     56.438667  55.95  39.3  76.4  50.080000  30  80      0.190667  28.6\n"
     ]
    }
   ],
   "source": [
    "# Basic statistical operations\n",
    "numeric_df = df.select_dtypes(include=[np.number])\n",
    "df_mean = numeric_df.mean()\n",
    "df_median = numeric_df.median()\n",
    "df_min = numeric_df.min()\n",
    "df_max = numeric_df.max()\n",
    "\n",
    "print(\"Weather Data - Mean:\")\n",
    "print(df_mean)\n",
    "\n",
    "print(\"\\nWeather Data - Median:\")\n",
    "print(df_median)\n",
    "\n",
    "print(\"\\nWeather Data - Min:\")\n",
    "print(df_min)\n",
    "\n",
    "print(\"\\nWeather Data - Max:\")\n",
    "print(df_max)\n",
    "\n",
    "# Group data by city and compute aggregations\n",
    "city_stats = df.groupby('city').agg({\n",
    "    'temperature': ['mean', 'median', 'min', 'max'],\n",
    "    'humidity': ['mean', 'min', 'max'],\n",
    "    'precipitation': ['mean', 'sum']\n",
    "})\n",
    "\n",
    "print(\"\\nWeather Data - Grouped by city:\")\n",
    "print(city_stats)\n",
    "\n",
    "# Group data by region and compute aggregations\n",
    "region_stats = df.groupby('region').agg({\n",
    "    'temperature': ['mean', 'median', 'min', 'max'],\n",
    "    'humidity': ['mean', 'min', 'max'],\n",
    "    'precipitation': ['mean', 'sum']\n",
    "})\n",
    "\n",
    "print(\"\\nWeather Data - Grouped by region:\")\n",
    "print(region_stats)"
   ]
  },
  {
   "cell_type": "markdown",
   "metadata": {},
   "source": [
    "## Data Manipulation Techniques\n",
    "Apply common data manipulation methods like sorting, handling missing values, applying functions, creating new columns, filtering and selecting."
   ]
  },
  {
   "cell_type": "code",
   "execution_count": 9,
   "metadata": {},
   "outputs": [
    {
     "name": "stdout",
     "output_type": "stream",
     "text": [
      "Sorted Weather Data by Temperature (Highest First):\n",
      "      city       date  temperature      condition\n",
      "67   Miami 2025-02-09         89.4  Partly Cloudy\n",
      "117  Miami 2025-02-14         86.2          Sunny\n",
      "27   Miami 2025-02-05         84.8          Sunny\n",
      "87   Miami 2025-02-11         84.1          Sunny\n",
      "77   Miami 2025-02-10         82.5          Sunny\n",
      "\n",
      "Rows with missing values: 37\n"
     ]
    }
   ],
   "source": [
    "# Sorting the data by temperature\n",
    "sorted_df = df.sort_values(by='temperature', ascending=False)\n",
    "print(\"Sorted Weather Data by Temperature (Highest First):\")\n",
    "print(sorted_df[['city', 'date', 'temperature', 'condition']].head())\n",
    "\n",
    "# Inserting some missing values to demonstrate handling\n",
    "df_with_na = df.copy()\n",
    "df_with_na.loc[np.random.choice(df.index, 20), 'temperature'] = np.nan\n",
    "df_with_na.loc[np.random.choice(df.index, 20), 'humidity'] = np.nan\n",
    "\n",
    "print(f\"\\nRows with missing values: {df_with_na.isna().any(axis=1).sum()}\")"
   ]
  },
  {
   "cell_type": "code",
   "execution_count": 10,
   "metadata": {},
   "outputs": [
    {
     "name": "stdout",
     "output_type": "stream",
     "text": [
      "\n",
      "Missing values after filling: 0\n"
     ]
    }
   ],
   "source": [
    "# Handling missing values by filling them with the mean of the city\n",
    "df_filled = df_with_na.copy()\n",
    "for city in df['city'].unique():\n",
    "    city_mean = df_with_na[df_with_na['city'] == city].mean(numeric_only=True)\n",
    "    city_mask = df_filled['city'] == city\n",
    "    df_filled.loc[city_mask, 'temperature'] = df_filled.loc[city_mask, 'temperature'].fillna(city_mean['temperature'])\n",
    "    df_filled.loc[city_mask, 'humidity'] = df_filled.loc[city_mask, 'humidity'].fillna(city_mean['humidity'])\n",
    "\n",
    "print(\"\\nMissing values after filling:\", df_filled.isna().sum().sum())\n"
   ]
  },
  {
   "cell_type": "code",
   "execution_count": 11,
   "metadata": {},
   "outputs": [
    {
     "name": "stdout",
     "output_type": "stream",
     "text": [
      "\n",
      "Temperature in multiple units:\n",
      "            city  temperature  temp_celsius  temp_kelvin\n",
      "0        Seattle         56.0          13.3        286.5\n",
      "1       Portland         52.9          11.6        284.8\n",
      "2  San Francisco         60.3          15.7        288.9\n",
      "3    Los Angeles         68.4          20.2        293.4\n",
      "4         Denver         47.2           8.4        281.6\n",
      "\n",
      "Temperature categories:\n",
      "temp_category\n",
      "Cold         71\n",
      "Hot           2\n",
      "Moderate    178\n",
      "Warm         49\n",
      "dtype: int64\n"
     ]
    }
   ],
   "source": [
    "# Applying a function to convert temperature to another unit (Kelvin)\n",
    "def fahrenheit_to_kelvin(temp):\n",
    "    return (temp - 32) * 5/9 + 273.15\n",
    "\n",
    "df['temp_kelvin'] = df['temperature'].apply(fahrenheit_to_kelvin).round(1)\n",
    "print(\"\\nTemperature in multiple units:\")\n",
    "print(df[['city', 'temperature', 'temp_celsius', 'temp_kelvin']].head())\n",
    "\n",
    "# Creating a categorical column for temperature ranges\n",
    "def temp_category(temp):\n",
    "    if temp < 32:\n",
    "        return \"Freezing\"\n",
    "    elif temp < 50:\n",
    "        return \"Cold\"\n",
    "    elif temp < 70:\n",
    "        return \"Moderate\"\n",
    "    elif temp < 85:\n",
    "        return \"Warm\"\n",
    "    else:\n",
    "        return \"Hot\"\n",
    "\n",
    "df['temp_category'] = df['temperature'].apply(temp_category)\n",
    "print(\"\\nTemperature categories:\")\n",
    "print(df.groupby('temp_category').size())"
   ]
  },
  {
   "cell_type": "code",
   "execution_count": 12,
   "metadata": {},
   "outputs": [
    {
     "name": "stdout",
     "output_type": "stream",
     "text": [
      "Hot days (temperature > 75°F): 23 records\n",
      "      city       date  temperature      condition\n",
      "27   Miami 2025-02-05         84.8          Sunny\n",
      "37   Miami 2025-02-06         79.4  Partly Cloudy\n",
      "47   Miami 2025-02-07         78.3          Sunny\n",
      "49  Austin 2025-02-07         76.6          Sunny\n",
      "57   Miami 2025-02-08         77.7          Sunny\n",
      "\n",
      "Selected Columns:\n",
      "            city       date  temperature condition\n",
      "0        Seattle 2025-02-03         56.0     Sunny\n",
      "1       Portland 2025-02-03         52.9     Sunny\n",
      "2  San Francisco 2025-02-03         60.3     Sunny\n",
      "3    Los Angeles 2025-02-03         68.4     Sunny\n",
      "4         Denver 2025-02-03         47.2     Rainy\n",
      "\n",
      "Selected Rows (10 to 14):\n",
      "             city       date  temperature\n",
      "10        Seattle 2025-02-04         55.6\n",
      "11       Portland 2025-02-04         56.4\n",
      "12  San Francisco 2025-02-04         64.3\n",
      "13    Los Angeles 2025-02-04         71.0\n",
      "14         Denver 2025-02-04         52.5\n",
      "\n",
      "Rainy days in Western region: 27 records\n",
      "        city       date  temperature  precipitation\n",
      "4     Denver 2025-02-03         47.2            1.2\n",
      "11  Portland 2025-02-04         56.4            1.0\n",
      "21  Portland 2025-02-05         57.8            1.0\n",
      "30   Seattle 2025-02-06         56.8            0.1\n",
      "51  Portland 2025-02-08         60.1            0.9\n",
      "\n",
      "Warm, dry days with no precipitation: 35 records\n",
      "           city       date  temperature  humidity      condition\n",
      "7         Miami 2025-02-03         73.9        48  Partly Cloudy\n",
      "27        Miami 2025-02-05         84.8        36          Sunny\n",
      "37        Miami 2025-02-06         79.4        40  Partly Cloudy\n",
      "43  Los Angeles 2025-02-07         73.8        33          Sunny\n",
      "49       Austin 2025-02-07         76.6        39          Sunny\n",
      "\n",
      "Hottest day for each city:\n",
      "              city       date  temperature  humidity      condition\n",
      "59          Austin 2025-02-08         79.3        64          Sunny\n",
      "48          Boston 2025-02-07         63.1        46          Sunny\n",
      "115        Chicago 2025-02-14         60.8        61          Sunny\n",
      "104         Denver 2025-02-13         59.6        47          Sunny\n",
      "103    Los Angeles 2025-02-13         76.4        43          Sunny\n",
      "67           Miami 2025-02-09         89.4        49  Partly Cloudy\n",
      "66        New York 2025-02-09         65.3        40          Sunny\n",
      "81        Portland 2025-02-11         67.4        44          Sunny\n",
      "102  San Francisco 2025-02-13         70.6        41          Sunny\n",
      "100        Seattle 2025-02-13         61.6        50         Cloudy\n"
     ]
    }
   ],
   "source": [
    "# Filter data using boolean masks\n",
    "hot_days = df[df['temperature'] > 75]\n",
    "print(f\"Hot days (temperature > 75°F): {len(hot_days)} records\")\n",
    "print(hot_days[['city', 'date', 'temperature', 'condition']].head())\n",
    "\n",
    "# Select specific columns using loc[]\n",
    "selected_columns = df.loc[:, ['city', 'date', 'temperature', 'condition']]\n",
    "print(\"\\nSelected Columns:\")\n",
    "print(selected_columns.head())\n",
    "\n",
    "# Select specific rows using iloc[]\n",
    "selected_rows = df.iloc[10:15]\n",
    "print(\"\\nSelected Rows (10 to 14):\")\n",
    "print(selected_rows[['city', 'date', 'temperature']])\n",
    "\n",
    "# Filter data using query() method\n",
    "rainy_west = df.query('condition == \"Rainy\" and region == \"West\"')\n",
    "print(f\"\\nRainy days in Western region: {len(rainy_west)} records\")\n",
    "print(rainy_west[['city', 'date', 'temperature', 'precipitation']].head())\n",
    "\n",
    "# Complex filtering with multiple conditions\n",
    "interesting_days = df[\n",
    "    (df['temperature'] > 70) & \n",
    "    (df['humidity'] < 50) & \n",
    "    (df['precipitation'] == 0)\n",
    "]\n",
    "print(f\"\\nWarm, dry days with no precipitation: {len(interesting_days)} records\")\n",
    "print(interesting_days[['city', 'date', 'temperature', 'humidity', 'condition']].head())\n",
    "\n",
    "# Get the hottest day for each city\n",
    "hottest_days = df.loc[df.groupby('city')['temperature'].idxmax()]\n",
    "print(\"\\nHottest day for each city:\")\n",
    "print(hottest_days[['city', 'date', 'temperature', 'humidity', 'condition']])"
   ]
  },
  {
   "cell_type": "markdown",
   "metadata": {},
   "source": [
    "## Data Visualization Techniques\n",
    "Create visualizations using matplotlib and seaborn including line charts, bar charts, histograms, and scatter plots."
   ]
  },
  {
   "cell_type": "code",
   "execution_count": 13,
   "metadata": {},
   "outputs": [
    {
     "data": {
      "image/png": "[encoded data removed]",
      "text/plain": [
       "<Figure size 1200x600 with 1 Axes>"
      ]
     },
     "metadata": {},
     "output_type": "display_data"
    }
   ],
   "source": [
    "# Time series line chart of temperatures for selected cities\n",
    "plt.figure(figsize=(12, 6))\n",
    "for city in ['Seattle', 'Miami', 'Chicago', 'Denver']:\n",
    "    city_data = df[df['city'] == city]\n",
    "    plt.plot(city_data['date'], city_data['temperature'], label=city)\n",
    "\n",
    "plt.title('Temperature Trends by City')\n",
    "plt.xlabel('Date')\n",
    "plt.ylabel('Temperature (°F)')\n",
    "plt.legend()\n",
    "plt.grid(True)\n",
    "plt.show()\n",
    "\n",
    "\n",
    "\n"
   ]
  },
  {
   "cell_type": "code",
   "execution_count": 14,
   "metadata": {},
   "outputs": [
    {
     "data": {
      "image/png": "[encoded data removed]",
      "text/plain": [
       "<Figure size 1000x600 with 1 Axes>"
      ]
     },
     "metadata": {},
     "output_type": "display_data"
    }
   ],
   "source": [
    "\n",
    "# Bar chart of average temperature by city\n",
    "city_avg_temp = df.groupby('city')['temperature'].mean().sort_values()\n",
    "plt.figure(figsize=(10, 6))\n",
    "city_avg_temp.plot(kind='bar', color='skyblue')\n",
    "plt.title('Average Temperature by City')\n",
    "plt.xlabel('City')\n",
    "plt.ylabel('Average Temperature (°F)')\n",
    "plt.xticks(rotation=45)\n",
    "plt.grid(axis='y')\n",
    "plt.show()"
   ]
  },
  {
   "cell_type": "code",
   "execution_count": 15,
   "metadata": {},
   "outputs": [
    {
     "data": {
      "image/png": "[encoded data removed]",
      "text/plain": [
       "<Figure size 1000x600 with 1 Axes>"
      ]
     },
     "metadata": {},
     "output_type": "display_data"
    }
   ],
   "source": [
    "\n",
    "# Histogram of temperatures\n",
    "plt.figure(figsize=(10, 6))\n",
    "sns.histplot(data=df, x='temperature', hue='region', bins=20, kde=True, alpha=0.5)\n",
    "plt.title('Distribution of Temperatures by Region')\n",
    "plt.xlabel('Temperature (°F)')\n",
    "plt.ylabel('Frequency')\n",
    "plt.grid(True)\n",
    "plt.show()"
   ]
  },
  {
   "cell_type": "code",
   "execution_count": 19,
   "metadata": {},
   "outputs": [
    {
     "data": {
      "image/png": "[encoded data removed]",
      "text/plain": [
       "<Figure size 1200x600 with 1 Axes>"
      ]
     },
     "metadata": {},
     "output_type": "display_data"
    }
   ],
   "source": [
    "\n",
    "# Box plot of temperatures by condition\n",
    "plt.figure(figsize=(12, 6))\n",
    "sns.boxplot(data=df, x='condition', y='temperature', palette='Set3', hue='region')\n",
    "plt.title('Temperature Distribution by Weather Condition')\n",
    "plt.xlabel('Weather Condition')\n",
    "plt.ylabel('Temperature (°F)')\n",
    "plt.grid(axis='y')\n",
    "plt.show()"
   ]
  },
  {
   "cell_type": "code",
   "execution_count": 18,
   "metadata": {},
   "outputs": [
    {
     "data": {
      "application/vnd.plotly.v1+json": {
       "config": {
        "plotlyServerURL": "https://plot.ly"
       },
       "data": [
        {
         "boxmean": false,
         "boxpoints": false,
         "customdata": [
          [
           52.2
          ],
          [
           56.9
          ],
          [
           73.9
          ],
          [
           50.5
          ],
          [
           67.4
          ],
          [
           50.4
          ],
          [
           55.4
          ],
          [
           72.3
          ],
          [
           49.7
          ],
          [
           67.2
          ],
          [
           48.4
          ],
          [
           56.5
          ],
          [
           84.8
          ],
          [
           55
          ],
          [
           68.1
          ],
          [
           57.6
          ],
          [
           57.6
          ],
          [
           79.4
          ],
          [
           53.8
          ],
          [
           72.2
          ],
          [
           47.4
          ],
          [
           54.8
          ],
          [
           78.3
          ],
          [
           63.1
          ],
          [
           76.6
          ],
          [
           54.3
          ],
          [
           58.1
          ],
          [
           77.7
          ],
          [
           58.2
          ],
          [
           79.3
          ],
          [
           56.3
          ],
          [
           65.3
          ],
          [
           89.4
          ],
          [
           56.8
          ],
          [
           75.9
          ],
          [
           54.7
          ],
          [
           58.9
          ],
          [
           82.5
          ],
          [
           57.6
          ],
          [
           76.8
          ],
          [
           57.3
          ],
          [
           59.1
          ],
          [
           84.1
          ],
          [
           56.9
          ],
          [
           78.9
          ],
          [
           54
          ],
          [
           57.1
          ],
          [
           81.2
          ],
          [
           61.5
          ],
          [
           74.6
          ],
          [
           59.4
          ],
          [
           60.2
          ],
          [
           81.2
          ],
          [
           53.8
          ],
          [
           75.8
          ],
          [
           60.8
          ],
          [
           57.8
          ],
          [
           86.2
          ],
          [
           59.6
          ],
          [
           76.9
          ],
          [
           54.9
          ],
          [
           57.8
          ],
          [
           73.6
          ],
          [
           55.7
          ],
          [
           73.4
          ],
          [
           48.9
          ],
          [
           54.4
          ],
          [
           79.3
          ],
          [
           54
          ],
          [
           70.9
          ],
          [
           52.5
          ],
          [
           57.9
          ],
          [
           78.7
          ],
          [
           52.2
          ],
          [
           72.8
          ],
          [
           44.9
          ],
          [
           60.1
          ],
          [
           72.2
          ],
          [
           51.2
          ],
          [
           69.3
          ],
          [
           45.9
          ],
          [
           47.4
          ],
          [
           72.3
          ],
          [
           49.2
          ],
          [
           65.9
          ],
          [
           49.6
          ],
          [
           53
          ],
          [
           80.8
          ],
          [
           46.9
          ],
          [
           63.7
          ],
          [
           45
          ],
          [
           45.8
          ],
          [
           77.2
          ],
          [
           50.3
          ],
          [
           58.6
          ],
          [
           45.3
          ],
          [
           52
          ],
          [
           67.2
          ],
          [
           46.4
          ],
          [
           60.8
          ],
          [
           45
          ],
          [
           46.6
          ],
          [
           72.9
          ],
          [
           41
          ],
          [
           63.5
          ],
          [
           40.3
          ],
          [
           44
          ],
          [
           68.7
          ],
          [
           43.3
          ],
          [
           66.9
          ],
          [
           39
          ],
          [
           52.6
          ],
          [
           75.9
          ],
          [
           42.5
          ],
          [
           64.3
          ],
          [
           37.6
          ],
          [
           47.4
          ],
          [
           62.8
          ],
          [
           49.1
          ],
          [
           65.1
          ],
          [
           41
          ],
          [
           46.8
          ],
          [
           74.2
          ],
          [
           42.2
          ],
          [
           55.1
          ],
          [
           45.2
          ],
          [
           47.4
          ],
          [
           69.2
          ],
          [
           42.8
          ],
          [
           58.1
          ],
          [
           37.6
          ],
          [
           45.7
          ],
          [
           68.9
          ],
          [
           43.1
          ],
          [
           61.5
          ],
          [
           47.9
          ],
          [
           48.2
          ],
          [
           70.1
          ],
          [
           49.2
          ],
          [
           59.1
          ],
          [
           46.3
          ],
          [
           46.7
          ],
          [
           70.1
          ],
          [
           42.2
          ],
          [
           59.1
          ],
          [
           38.3
          ],
          [
           51.5
          ],
          [
           70.3
          ],
          [
           51.6
          ],
          [
           62.9
          ]
         ],
         "fillcolor": "rgba(255,255,255,0.6)",
         "hoverinfo": "none",
         "hovertemplate": "%{customdata[0]:.1f}°F<extra></extra>",
         "legendgroup": "East",
         "line": {
          "width": 1.5
         },
         "marker": {
          "color": "#636EFA"
         },
         "name": "East",
         "showlegend": true,
         "type": "box",
         "visible": true,
         "x": [
          "Chicago",
          "New York",
          "Miami",
          "Boston",
          "Austin",
          "Chicago",
          "New York",
          "Miami",
          "Boston",
          "Austin",
          "Chicago",
          "New York",
          "Miami",
          "Boston",
          "Austin",
          "Chicago",
          "New York",
          "Miami",
          "Boston",
          "Austin",
          "Chicago",
          "New York",
          "Miami",
          "Boston",
          "Austin",
          "Chicago",
          "New York",
          "Miami",
          "Boston",
          "Austin",
          "Chicago",
          "New York",
          "Miami",
          "Boston",
          "Austin",
          "Chicago",
          "New York",
          "Miami",
          "Boston",
          "Austin",
          "Chicago",
          "New York",
          "Miami",
          "Boston",
          "Austin",
          "Chicago",
          "New York",
          "Miami",
          "Boston",
          "Austin",
          "Chicago",
          "New York",
          "Miami",
          "Boston",
          "Austin",
          "Chicago",
          "New York",
          "Miami",
          "Boston",
          "Austin",
          "Chicago",
          "New York",
          "Miami",
          "Boston",
          "Austin",
          "Chicago",
          "New York",
          "Miami",
          "Boston",
          "Austin",
          "Chicago",
          "New York",
          "Miami",
          "Boston",
          "Austin",
          "Chicago",
          "New York",
          "Miami",
          "Boston",
          "Austin",
          "Chicago",
          "New York",
          "Miami",
          "Boston",
          "Austin",
          "Chicago",
          "New York",
          "Miami",
          "Boston",
          "Austin",
          "Chicago",
          "New York",
          "Miami",
          "Boston",
          "Austin",
          "Chicago",
          "New York",
          "Miami",
          "Boston",
          "Austin",
          "Chicago",
          "New York",
          "Miami",
          "Boston",
          "Austin",
          "Chicago",
          "New York",
          "Miami",
          "Boston",
          "Austin",
          "Chicago",
          "New York",
          "Miami",
          "Boston",
          "Austin",
          "Chicago",
          "New York",
          "Miami",
          "Boston",
          "Austin",
          "Chicago",
          "New York",
          "Miami",
          "Boston",
          "Austin",
          "Chicago",
          "New York",
          "Miami",
          "Boston",
          "Austin",
          "Chicago",
          "New York",
          "Miami",
          "Boston",
          "Austin",
          "Chicago",
          "New York",
          "Miami",
          "Boston",
          "Austin",
          "Chicago",
          "New York",
          "Miami",
          "Boston",
          "Austin",
          "Chicago",
          "New York",
          "Miami",
          "Boston",
          "Austin"
         ],
         "y": {
          "bdata": "mpmZmZkZSkAzMzMzM3NMQJqZmZmZeVJAAAAAAABASUCamZmZmdlQQDMzMzMzM0lAMzMzMzOzS0AzMzMzMxNSQJqZmZmZ2UhAzczMzMzMUEAzMzMzMzNIQAAAAAAAQExAMzMzMzMzVUAAAAAAAIBLQGZmZmZmBlFAzczMzMzMTEDNzMzMzMxMQJqZmZmZ2VNAZmZmZmbmSkDNzMzMzAxSQDMzMzMzs0dAZmZmZmZmS0AzMzMzM5NTQM3MzMzMjE9AZmZmZmYmU0BmZmZmZiZLQM3MzMzMDE1AzczMzMxsU0CamZmZmRlNQDMzMzMz01NAZmZmZmYmTEAzMzMzM1NQQJqZmZmZWVZAZmZmZmZmTECamZmZmflSQJqZmZmZWUtAMzMzMzNzTUAAAAAAAKBUQM3MzMzMzExAMzMzMzMzU0BmZmZmZqZMQM3MzMzMjE1AZmZmZmYGVUAzMzMzM3NMQJqZmZmZuVNAAAAAAAAAS0DNzMzMzIxMQM3MzMzMTFRAAAAAAADATkBmZmZmZqZSQDMzMzMzs01AmpmZmZkZTkDNzMzMzExUQGZmZmZm5kpAMzMzMzPzUkBmZmZmZmZOQGZmZmZm5kxAzczMzMyMVUDNzMzMzMxNQJqZmZmZOVNAMzMzMzNzS0BmZmZmZuZMQGZmZmZmZlJAmpmZmZnZS0CamZmZmVlSQDMzMzMzc0hAMzMzMzMzS0AzMzMzM9NTQAAAAAAAAEtAmpmZmZm5UUAAAAAAAEBKQDMzMzMz80xAzczMzMysU0CamZmZmRlKQDMzMzMzM1JAMzMzMzNzRkDNzMzMzAxOQM3MzMzMDFJAmpmZmZmZSUAzMzMzM1NRQDMzMzMz80ZAMzMzMzOzR0AzMzMzMxNSQJqZmZmZmUhAmpmZmZl5UEDNzMzMzMxIQAAAAAAAgEpAMzMzMzMzVEAzMzMzM3NHQJqZmZmZ2U9AAAAAAACARkBmZmZmZuZGQM3MzMzMTFNAZmZmZmYmSUDNzMzMzExNQGZmZmZmpkZAAAAAAAAASkDNzMzMzMxQQDMzMzMzM0dAZmZmZmZmTkAAAAAAAIBGQM3MzMzMTEdAmpmZmZk5UkAAAAAAAIBEQAAAAAAAwE9AZmZmZmYmREAAAAAAAABGQM3MzMzMLFFAZmZmZmamRUCamZmZmblQQAAAAAAAgENAzczMzMxMSkCamZmZmflSQAAAAAAAQEVAMzMzMzMTUEDNzMzMzMxCQDMzMzMzs0dAZmZmZmZmT0DNzMzMzIxIQGZmZmZmRlBAAAAAAACAREBmZmZmZmZHQM3MzMzMjFJAmpmZmZkZRUDNzMzMzIxLQJqZmZmZmUZAMzMzMzOzR0DNzMzMzExRQGZmZmZmZkVAzczMzMwMTUDNzMzMzMxCQJqZmZmZ2UZAmpmZmZk5UUDNzMzMzIxFQAAAAAAAwE5AMzMzMzPzR0CamZmZmRlIQGZmZmZmhlFAmpmZmZmZSEDNzMzMzIxNQGZmZmZmJkdAmpmZmZlZR0BmZmZmZoZRQJqZmZmZGUVAzczMzMyMTUBmZmZmZiZDQAAAAAAAwElAMzMzMzOTUUDNzMzMzMxJQDMzMzMzc09A",
          "dtype": "f8"
         }
        },
        {
         "boxmean": false,
         "boxpoints": false,
         "customdata": [
          [
           56
          ],
          [
           52.9
          ],
          [
           60.3
          ],
          [
           68.4
          ],
          [
           47.2
          ],
          [
           55.6
          ],
          [
           56.4
          ],
          [
           64.3
          ],
          [
           71
          ],
          [
           52.5
          ],
          [
           51.3
          ],
          [
           57.8
          ],
          [
           60.9
          ],
          [
           66.1
          ],
          [
           58
          ],
          [
           56.8
          ],
          [
           60.4
          ],
          [
           67.4
          ],
          [
           70
          ],
          [
           50.3
          ],
          [
           52.5
          ],
          [
           61.5
          ],
          [
           68.8
          ],
          [
           73.8
          ],
          [
           53.4
          ],
          [
           56
          ],
          [
           60.1
          ],
          [
           65
          ],
          [
           71.6
          ],
          [
           56.1
          ],
          [
           55.6
          ],
          [
           59.7
          ],
          [
           61
          ],
          [
           70.5
          ],
          [
           57.6
          ],
          [
           55
          ],
          [
           61.2
          ],
          [
           65.5
          ],
          [
           72.7
          ],
          [
           57.8
          ],
          [
           60
          ],
          [
           67.4
          ],
          [
           58.8
          ],
          [
           72.7
          ],
          [
           56.1
          ],
          [
           57.6
          ],
          [
           57.8
          ],
          [
           68.9
          ],
          [
           71
          ],
          [
           52.6
          ],
          [
           61.6
          ],
          [
           58.9
          ],
          [
           70.6
          ],
          [
           76.4
          ],
          [
           59.6
          ],
          [
           59.3
          ],
          [
           61.3
          ],
          [
           69
          ],
          [
           70.7
          ],
          [
           55.7
          ],
          [
           54.5
          ],
          [
           58.5
          ],
          [
           66.3
          ],
          [
           73.2
          ],
          [
           56.7
          ],
          [
           58.5
          ],
          [
           61.2
          ],
          [
           64.4
          ],
          [
           64.7
          ],
          [
           48.6
          ],
          [
           57.7
          ],
          [
           57.7
          ],
          [
           64
          ],
          [
           67.1
          ],
          [
           44.9
          ],
          [
           52.8
          ],
          [
           55.7
          ],
          [
           58.2
          ],
          [
           72.6
          ],
          [
           49.6
          ],
          [
           49.3
          ],
          [
           50.8
          ],
          [
           52.5
          ],
          [
           67.3
          ],
          [
           48.2
          ],
          [
           50.9
          ],
          [
           53.2
          ],
          [
           55.9
          ],
          [
           66.8
          ],
          [
           51.2
          ],
          [
           49.3
          ],
          [
           53
          ],
          [
           56.2
          ],
          [
           56
          ],
          [
           49.6
          ],
          [
           52.5
          ],
          [
           55.4
          ],
          [
           54
          ],
          [
           59.2
          ],
          [
           50.5
          ],
          [
           46.5
          ],
          [
           51.2
          ],
          [
           52.1
          ],
          [
           60.4
          ],
          [
           40.8
          ],
          [
           44
          ],
          [
           45.5
          ],
          [
           50.6
          ],
          [
           63.1
          ],
          [
           48.1
          ],
          [
           45.4
          ],
          [
           47
          ],
          [
           50.8
          ],
          [
           52.9
          ],
          [
           39.7
          ],
          [
           44.6
          ],
          [
           47
          ],
          [
           50
          ],
          [
           54.2
          ],
          [
           39.3
          ],
          [
           45.2
          ],
          [
           49.3
          ],
          [
           53.8
          ],
          [
           57.3
          ],
          [
           40.3
          ],
          [
           45.8
          ],
          [
           48.3
          ],
          [
           52
          ],
          [
           61.8
          ],
          [
           39.9
          ],
          [
           44.7
          ],
          [
           50.7
          ],
          [
           52.1
          ],
          [
           55.6
          ],
          [
           42.5
          ],
          [
           50.1
          ],
          [
           54.7
          ],
          [
           56
          ],
          [
           54.8
          ],
          [
           44
          ],
          [
           50.6
          ],
          [
           54.4
          ],
          [
           58.1
          ],
          [
           54.9
          ],
          [
           43.2
          ],
          [
           52.9
          ],
          [
           46.6
          ],
          [
           56.8
          ],
          [
           72.2
          ],
          [
           50.3
          ]
         ],
         "fillcolor": "rgba(255,255,255,0.6)",
         "hoverinfo": "none",
         "hovertemplate": "%{customdata[0]:.1f}°F<extra></extra>",
         "legendgroup": "West",
         "line": {
          "width": 1.5
         },
         "marker": {
          "color": "#EF553B"
         },
         "name": "West",
         "showlegend": true,
         "type": "box",
         "visible": true,
         "x": [
          "Seattle",
          "Portland",
          "San Francisco",
          "Los Angeles",
          "Denver",
          "Seattle",
          "Portland",
          "San Francisco",
          "Los Angeles",
          "Denver",
          "Seattle",
          "Portland",
          "San Francisco",
          "Los Angeles",
          "Denver",
          "Seattle",
          "Portland",
          "San Francisco",
          "Los Angeles",
          "Denver",
          "Seattle",
          "Portland",
          "San Francisco",
          "Los Angeles",
          "Denver",
          "Seattle",
          "Portland",
          "San Francisco",
          "Los Angeles",
          "Denver",
          "Seattle",
          "Portland",
          "San Francisco",
          "Los Angeles",
          "Denver",
          "Seattle",
          "Portland",
          "San Francisco",
          "Los Angeles",
          "Denver",
          "Seattle",
          "Portland",
          "San Francisco",
          "Los Angeles",
          "Denver",
          "Seattle",
          "Portland",
          "San Francisco",
          "Los Angeles",
          "Denver",
          "Seattle",
          "Portland",
          "San Francisco",
          "Los Angeles",
          "Denver",
          "Seattle",
          "Portland",
          "San Francisco",
          "Los Angeles",
          "Denver",
          "Seattle",
          "Portland",
          "San Francisco",
          "Los Angeles",
          "Denver",
          "Seattle",
          "Portland",
          "San Francisco",
          "Los Angeles",
          "Denver",
          "Seattle",
          "Portland",
          "San Francisco",
          "Los Angeles",
          "Denver",
          "Seattle",
          "Portland",
          "San Francisco",
          "Los Angeles",
          "Denver",
          "Seattle",
          "Portland",
          "San Francisco",
          "Los Angeles",
          "Denver",
          "Seattle",
          "Portland",
          "San Francisco",
          "Los Angeles",
          "Denver",
          "Seattle",
          "Portland",
          "San Francisco",
          "Los Angeles",
          "Denver",
          "Seattle",
          "Portland",
          "San Francisco",
          "Los Angeles",
          "Denver",
          "Seattle",
          "Portland",
          "San Francisco",
          "Los Angeles",
          "Denver",
          "Seattle",
          "Portland",
          "San Francisco",
          "Los Angeles",
          "Denver",
          "Seattle",
          "Portland",
          "San Francisco",
          "Los Angeles",
          "Denver",
          "Seattle",
          "Portland",
          "San Francisco",
          "Los Angeles",
          "Denver",
          "Seattle",
          "Portland",
          "San Francisco",
          "Los Angeles",
          "Denver",
          "Seattle",
          "Portland",
          "San Francisco",
          "Los Angeles",
          "Denver",
          "Seattle",
          "Portland",
          "San Francisco",
          "Los Angeles",
          "Denver",
          "Seattle",
          "Portland",
          "San Francisco",
          "Los Angeles",
          "Denver",
          "Seattle",
          "Portland",
          "San Francisco",
          "Los Angeles",
          "Denver",
          "Seattle",
          "Portland",
          "San Francisco",
          "Los Angeles",
          "Denver"
         ],
         "y": {
          "bdata": "AAAAAAAATEAzMzMzM3NKQGZmZmZmJk5AmpmZmZkZUUCamZmZmZlHQM3MzMzMzEtAMzMzMzMzTEAzMzMzMxNQQAAAAAAAwFFAAAAAAABASkBmZmZmZqZJQGZmZmZm5kxAMzMzMzNzTkBmZmZmZoZQQAAAAAAAAE1AZmZmZmZmTEAzMzMzMzNOQJqZmZmZ2VBAAAAAAACAUUBmZmZmZiZJQAAAAAAAQEpAAAAAAADATkAzMzMzMzNRQDMzMzMzc1JAMzMzMzOzSkAAAAAAAABMQM3MzMzMDE5AAAAAAABAUEBmZmZmZuZRQM3MzMzMDExAzczMzMzMS0CamZmZmdlNQAAAAAAAgE5AAAAAAACgUUDNzMzMzMxMQAAAAAAAgEtAmpmZmZmZTkAAAAAAAGBQQM3MzMzMLFJAZmZmZmbmTEAAAAAAAABOQJqZmZmZ2VBAZmZmZmZmTUDNzMzMzCxSQM3MzMzMDExAzczMzMzMTEBmZmZmZuZMQJqZmZmZOVFAAAAAAADAUUDNzMzMzExKQM3MzMzMzE5AMzMzMzNzTUBmZmZmZqZRQJqZmZmZGVNAzczMzMzMTUBmZmZmZqZNQGZmZmZmpk5AAAAAAABAUUDNzMzMzKxRQJqZmZmZ2UtAAAAAAABAS0AAAAAAAEBNQDMzMzMzk1BAzczMzMxMUkCamZmZmVlMQAAAAAAAQE1AmpmZmZmZTkCamZmZmRlQQM3MzMzMLFBAzczMzMxMSECamZmZmdlMQJqZmZmZ2UxAAAAAAAAAUEBmZmZmZsZQQDMzMzMzc0ZAZmZmZmZmSkCamZmZmdlLQJqZmZmZGU1AZmZmZmYmUkDNzMzMzMxIQGZmZmZmpkhAZmZmZmZmSUAAAAAAAEBKQDMzMzMz01BAmpmZmZkZSEAzMzMzM3NJQJqZmZmZmUpAMzMzMzPzS0AzMzMzM7NQQJqZmZmZmUlAZmZmZmamSEAAAAAAAIBKQJqZmZmZGUxAAAAAAAAATEDNzMzMzMxIQAAAAAAAQEpAMzMzMzOzS0AAAAAAAABLQJqZmZmZmU1AAAAAAABASUAAAAAAAEBHQJqZmZmZmUlAzczMzMwMSkAzMzMzMzNOQGZmZmZmZkRAAAAAAAAARkAAAAAAAMBGQM3MzMzMTElAzczMzMyMT0DNzMzMzAxIQDMzMzMzs0ZAAAAAAACAR0BmZmZmZmZJQDMzMzMzc0pAmpmZmZnZQ0DNzMzMzExGQAAAAAAAgEdAAAAAAAAASUCamZmZmRlLQGZmZmZmpkNAmpmZmZmZRkBmZmZmZqZIQGZmZmZm5kpAZmZmZmamTEBmZmZmZiZEQGZmZmZm5kZAZmZmZmYmSEAAAAAAAABKQGZmZmZm5k5AMzMzMzPzQ0CamZmZmVlGQJqZmZmZWUlAzczMzMwMSkDNzMzMzMxLQAAAAAAAQEVAzczMzMwMSUCamZmZmVlLQAAAAAAAAExAZmZmZmZmS0AAAAAAAABGQM3MzMzMTElAMzMzMzMzS0DNzMzMzAxNQDMzMzMzc0tAmpmZmZmZRUAzMzMzM3NKQM3MzMzMTEdAZmZmZmZmTEDNzMzMzAxSQGZmZmZmJklA",
          "dtype": "f8"
         }
        },
        {
         "boxmean": false,
         "boxpoints": false,
         "customdata": [
          [
           52.2
          ],
          [
           55
          ],
          [
           53.8
          ],
          [
           54.8
          ],
          [
           56.3
          ],
          [
           56.8
          ],
          [
           58.9
          ],
          [
           57.6
          ],
          [
           56.9
          ],
          [
           59.4
          ],
          [
           53.8
          ],
          [
           54.4
          ],
          [
           54
          ],
          [
           51.2
          ],
          [
           47.4
          ],
          [
           45.8
          ],
          [
           45.3
          ],
          [
           52
          ],
          [
           41
          ],
          [
           40.3
          ],
          [
           47.4
          ],
          [
           41
          ],
          [
           55.1
          ],
          [
           45.7
          ],
          [
           61.5
          ],
          [
           47.9
          ],
          [
           59.1
          ],
          [
           38.3
          ],
          [
           51.5
          ]
         ],
         "fillcolor": "rgba(255,255,255,0.6)",
         "hoverinfo": "none",
         "hovertemplate": "%{customdata[0]:.1f}°F<extra></extra>",
         "legendgroup": "East",
         "line": {
          "width": 1.5
         },
         "marker": {
          "color": "#636EFA"
         },
         "name": "East",
         "showlegend": true,
         "type": "box",
         "visible": false,
         "x": [
          "Chicago",
          "Boston",
          "Boston",
          "New York",
          "Chicago",
          "Boston",
          "New York",
          "Boston",
          "Boston",
          "Chicago",
          "Boston",
          "New York",
          "Boston",
          "Boston",
          "New York",
          "New York",
          "Chicago",
          "New York",
          "Boston",
          "Chicago",
          "New York",
          "Chicago",
          "Austin",
          "New York",
          "Austin",
          "Chicago",
          "Austin",
          "Chicago",
          "New York"
         ],
         "y": {
          "bdata": "mpmZmZkZSkAAAAAAAIBLQGZmZmZm5kpAZmZmZmZmS0BmZmZmZiZMQGZmZmZmZkxAMzMzMzNzTUDNzMzMzMxMQDMzMzMzc0xAMzMzMzOzTUBmZmZmZuZKQDMzMzMzM0tAAAAAAAAAS0CamZmZmZlJQDMzMzMzs0dAZmZmZmbmRkBmZmZmZqZGQAAAAAAAAEpAAAAAAACAREBmZmZmZiZEQDMzMzMzs0dAAAAAAACAREDNzMzMzIxLQJqZmZmZ2UZAAAAAAADATkAzMzMzM/NHQM3MzMzMjE1AZmZmZmYmQ0AAAAAAAMBJQA==",
          "dtype": "f8"
         }
        },
        {
         "boxmean": false,
         "boxpoints": false,
         "customdata": [
          [
           51.3
          ],
          [
           52.5
          ],
          [
           61.2
          ],
          [
           56.1
          ],
          [
           57.8
          ],
          [
           61.6
          ],
          [
           59.3
          ],
          [
           54.5
          ],
          [
           58.5
          ],
          [
           57.7
          ],
          [
           57.7
          ],
          [
           64
          ],
          [
           44.9
          ],
          [
           52.8
          ],
          [
           49.6
          ],
          [
           52.5
          ],
          [
           55.9
          ],
          [
           51.2
          ],
          [
           53
          ],
          [
           56.2
          ],
          [
           52.5
          ],
          [
           50.5
          ],
          [
           44
          ],
          [
           39.7
          ],
          [
           54.2
          ],
          [
           45.2
          ],
          [
           61.8
          ],
          [
           44.7
          ],
          [
           50.7
          ],
          [
           55.6
          ],
          [
           54.7
          ],
          [
           56
          ],
          [
           54.8
          ],
          [
           58.1
          ],
          [
           54.9
          ],
          [
           43.2
          ],
          [
           56.8
          ]
         ],
         "fillcolor": "rgba(255,255,255,0.6)",
         "hoverinfo": "none",
         "hovertemplate": "%{customdata[0]:.1f}°F<extra></extra>",
         "legendgroup": "West",
         "line": {
          "width": 1.5
         },
         "marker": {
          "color": "#EF553B"
         },
         "name": "West",
         "showlegend": true,
         "type": "box",
         "visible": false,
         "x": [
          "Seattle",
          "Seattle",
          "Portland",
          "Denver",
          "Portland",
          "Seattle",
          "Seattle",
          "Seattle",
          "Portland",
          "Seattle",
          "Portland",
          "San Francisco",
          "Denver",
          "Seattle",
          "Denver",
          "San Francisco",
          "San Francisco",
          "Denver",
          "Portland",
          "San Francisco",
          "Seattle",
          "Denver",
          "Seattle",
          "Denver",
          "Los Angeles",
          "Seattle",
          "Los Angeles",
          "Seattle",
          "Portland",
          "Los Angeles",
          "Portland",
          "San Francisco",
          "Los Angeles",
          "San Francisco",
          "Los Angeles",
          "Denver",
          "San Francisco"
         ],
         "y": {
          "bdata": "ZmZmZmamSUAAAAAAAEBKQJqZmZmZmU5AzczMzMwMTEBmZmZmZuZMQM3MzMzMzE5AZmZmZmamTUAAAAAAAEBLQAAAAAAAQE1AmpmZmZnZTECamZmZmdlMQAAAAAAAAFBAMzMzMzNzRkBmZmZmZmZKQM3MzMzMzEhAAAAAAABASkAzMzMzM/NLQJqZmZmZmUlAAAAAAACASkCamZmZmRlMQAAAAAAAQEpAAAAAAABASUAAAAAAAABGQJqZmZmZ2UNAmpmZmZkZS0CamZmZmZlGQGZmZmZm5k5AmpmZmZlZRkCamZmZmVlJQM3MzMzMzEtAmpmZmZlZS0AAAAAAAABMQGZmZmZmZktAzczMzMwMTUAzMzMzM3NLQJqZmZmZmUVAZmZmZmZmTEA=",
          "dtype": "f8"
         }
        },
        {
         "boxmean": false,
         "boxpoints": false,
         "customdata": [
          [
           73.9
          ],
          [
           68.1
          ],
          [
           79.4
          ],
          [
           89.4
          ],
          [
           75.8
          ],
          [
           73.4
          ],
          [
           79.3
          ],
          [
           78.7
          ]
         ],
         "fillcolor": "rgba(255,255,255,0.6)",
         "hoverinfo": "none",
         "hovertemplate": "%{customdata[0]:.1f}°F<extra></extra>",
         "legendgroup": "East",
         "line": {
          "width": 1.5
         },
         "marker": {
          "color": "#636EFA"
         },
         "name": "East",
         "showlegend": true,
         "type": "box",
         "visible": false,
         "x": [
          "Miami",
          "Austin",
          "Miami",
          "Miami",
          "Austin",
          "Austin",
          "Miami",
          "Miami"
         ],
         "y": {
          "bdata": "mpmZmZl5UkBmZmZmZgZRQJqZmZmZ2VNAmpmZmZlZVkAzMzMzM/NSQJqZmZmZWVJAMzMzMzPTU0DNzMzMzKxTQA==",
          "dtype": "f8"
         }
        },
        {
         "boxmean": false,
         "boxpoints": false,
         "customdata": [
          [
           66.1
          ],
          [
           71.6
          ],
          [
           71
          ]
         ],
         "fillcolor": "rgba(255,255,255,0.6)",
         "hoverinfo": "none",
         "hovertemplate": "%{customdata[0]:.1f}°F<extra></extra>",
         "legendgroup": "West",
         "line": {
          "width": 1.5
         },
         "marker": {
          "color": "#EF553B"
         },
         "name": "West",
         "showlegend": true,
         "type": "box",
         "visible": false,
         "x": [
          "Los Angeles",
          "Los Angeles",
          "Los Angeles"
         ],
         "y": {
          "bdata": "ZmZmZmaGUEBmZmZmZuZRQAAAAAAAwFFA",
          "dtype": "f8"
         }
        },
        {
         "boxmean": false,
         "boxpoints": false,
         "customdata": [
          [
           50.5
          ],
          [
           49.7
          ],
          [
           48.4
          ],
          [
           56.5
          ],
          [
           57.6
          ],
          [
           47.4
          ],
          [
           54.3
          ],
          [
           49.2
          ],
          [
           49.6
          ],
          [
           46.9
          ],
          [
           45
          ],
          [
           46.4
          ],
          [
           45
          ],
          [
           46.6
          ],
          [
           44
          ],
          [
           43.3
          ],
          [
           39
          ],
          [
           42.5
          ],
          [
           37.6
          ],
          [
           46.8
          ],
          [
           45.2
          ],
          [
           47.4
          ],
          [
           42.8
          ],
          [
           43.1
          ],
          [
           49.2
          ],
          [
           46.7
          ],
          [
           42.2
          ]
         ],
         "fillcolor": "rgba(255,255,255,0.6)",
         "hoverinfo": "none",
         "hovertemplate": "%{customdata[0]:.1f}°F<extra></extra>",
         "legendgroup": "East",
         "line": {
          "width": 1.5
         },
         "marker": {
          "color": "#636EFA"
         },
         "name": "East",
         "showlegend": true,
         "type": "box",
         "visible": false,
         "x": [
          "Boston",
          "Boston",
          "Chicago",
          "New York",
          "New York",
          "Chicago",
          "Chicago",
          "Boston",
          "Chicago",
          "Boston",
          "Chicago",
          "Boston",
          "Chicago",
          "New York",
          "New York",
          "Boston",
          "Chicago",
          "Boston",
          "Chicago",
          "New York",
          "Chicago",
          "New York",
          "Boston",
          "Boston",
          "Boston",
          "New York",
          "Boston"
         ],
         "y": {
          "bdata": "AAAAAABASUCamZmZmdlIQDMzMzMzM0hAAAAAAABATEDNzMzMzMxMQDMzMzMzs0dAZmZmZmYmS0CamZmZmZlIQM3MzMzMzEhAMzMzMzNzR0AAAAAAAIBGQDMzMzMzM0dAAAAAAACARkDNzMzMzExHQAAAAAAAAEZAZmZmZmamRUAAAAAAAIBDQAAAAAAAQEVAzczMzMzMQkBmZmZmZmZHQJqZmZmZmUZAMzMzMzOzR0BmZmZmZmZFQM3MzMzMjEVAmpmZmZmZSECamZmZmVlHQJqZmZmZGUVA",
          "dtype": "f8"
         }
        },
        {
         "boxmean": false,
         "boxpoints": false,
         "customdata": [
          [
           47.2
          ],
          [
           56.4
          ],
          [
           57.8
          ],
          [
           56.8
          ],
          [
           60.1
          ],
          [
           56.1
          ],
          [
           57.6
          ],
          [
           61.3
          ],
          [
           58.5
          ],
          [
           64.4
          ],
          [
           48.6
          ],
          [
           49.3
          ],
          [
           48.2
          ],
          [
           49.3
          ],
          [
           51.2
          ],
          [
           45.5
          ],
          [
           50.6
          ],
          [
           48.1
          ],
          [
           47
          ],
          [
           44.6
          ],
          [
           47
          ],
          [
           45.8
          ],
          [
           48.3
          ],
          [
           52
          ],
          [
           39.9
          ],
          [
           42.5
          ],
          [
           46.6
          ]
         ],
         "fillcolor": "rgba(255,255,255,0.6)",
         "hoverinfo": "none",
         "hovertemplate": "%{customdata[0]:.1f}°F<extra></extra>",
         "legendgroup": "West",
         "line": {
          "width": 1.5
         },
         "marker": {
          "color": "#EF553B"
         },
         "name": "West",
         "showlegend": true,
         "type": "box",
         "visible": false,
         "x": [
          "Denver",
          "Portland",
          "Portland",
          "Seattle",
          "Portland",
          "Denver",
          "Seattle",
          "Portland",
          "Seattle",
          "San Francisco",
          "Denver",
          "Seattle",
          "Denver",
          "Seattle",
          "Portland",
          "Portland",
          "San Francisco",
          "Denver",
          "Portland",
          "Seattle",
          "Portland",
          "Seattle",
          "Portland",
          "San Francisco",
          "Denver",
          "Denver",
          "Portland"
         ],
         "y": {
          "bdata": "mpmZmZmZR0AzMzMzMzNMQGZmZmZm5kxAZmZmZmZmTEDNzMzMzAxOQM3MzMzMDExAzczMzMzMTEBmZmZmZqZOQAAAAAAAQE1AmpmZmZkZUEDNzMzMzExIQGZmZmZmpkhAmpmZmZkZSEBmZmZmZqZIQJqZmZmZmUlAAAAAAADARkDNzMzMzExJQM3MzMzMDEhAAAAAAACAR0DNzMzMzExGQAAAAAAAgEdAZmZmZmbmRkBmZmZmZiZIQAAAAAAAAEpAMzMzMzPzQ0AAAAAAAEBFQM3MzMzMTEdA",
          "dtype": "f8"
         }
        },
        {
         "boxmean": false,
         "boxpoints": false,
         "customdata": [
          [
           56.9
          ],
          [
           67.4
          ],
          [
           50.4
          ],
          [
           55.4
          ],
          [
           72.3
          ],
          [
           67.2
          ],
          [
           84.8
          ],
          [
           57.6
          ],
          [
           72.2
          ],
          [
           78.3
          ],
          [
           63.1
          ],
          [
           76.6
          ],
          [
           58.1
          ],
          [
           77.7
          ],
          [
           58.2
          ],
          [
           79.3
          ],
          [
           65.3
          ],
          [
           75.9
          ],
          [
           54.7
          ],
          [
           82.5
          ],
          [
           76.8
          ],
          [
           57.3
          ],
          [
           59.1
          ],
          [
           84.1
          ],
          [
           78.9
          ],
          [
           54
          ],
          [
           57.1
          ],
          [
           81.2
          ],
          [
           61.5
          ],
          [
           74.6
          ],
          [
           60.2
          ],
          [
           81.2
          ],
          [
           60.8
          ],
          [
           57.8
          ],
          [
           86.2
          ],
          [
           59.6
          ],
          [
           76.9
          ],
          [
           54.9
          ],
          [
           57.8
          ],
          [
           73.6
          ],
          [
           55.7
          ],
          [
           48.9
          ],
          [
           70.9
          ],
          [
           52.5
          ],
          [
           57.9
          ],
          [
           52.2
          ],
          [
           72.8
          ],
          [
           44.9
          ],
          [
           60.1
          ],
          [
           72.2
          ],
          [
           69.3
          ],
          [
           45.9
          ],
          [
           72.3
          ],
          [
           65.9
          ],
          [
           53
          ],
          [
           80.8
          ],
          [
           63.7
          ],
          [
           77.2
          ],
          [
           50.3
          ],
          [
           58.6
          ],
          [
           67.2
          ],
          [
           60.8
          ],
          [
           72.9
          ],
          [
           63.5
          ],
          [
           68.7
          ],
          [
           66.9
          ],
          [
           52.6
          ],
          [
           75.9
          ],
          [
           64.3
          ],
          [
           62.8
          ],
          [
           49.1
          ],
          [
           65.1
          ],
          [
           74.2
          ],
          [
           42.2
          ],
          [
           69.2
          ],
          [
           58.1
          ],
          [
           37.6
          ],
          [
           68.9
          ],
          [
           48.2
          ],
          [
           70.1
          ],
          [
           59.1
          ],
          [
           46.3
          ],
          [
           70.1
          ],
          [
           70.3
          ],
          [
           51.6
          ],
          [
           62.9
          ]
         ],
         "fillcolor": "rgba(255,255,255,0.6)",
         "hoverinfo": "none",
         "hovertemplate": "%{customdata[0]:.1f}°F<extra></extra>",
         "legendgroup": "East",
         "line": {
          "width": 1.5
         },
         "marker": {
          "color": "#636EFA"
         },
         "name": "East",
         "showlegend": true,
         "type": "box",
         "visible": false,
         "x": [
          "New York",
          "Austin",
          "Chicago",
          "New York",
          "Miami",
          "Austin",
          "Miami",
          "Chicago",
          "Austin",
          "Miami",
          "Boston",
          "Austin",
          "New York",
          "Miami",
          "Boston",
          "Austin",
          "New York",
          "Austin",
          "Chicago",
          "Miami",
          "Austin",
          "Chicago",
          "New York",
          "Miami",
          "Austin",
          "Chicago",
          "New York",
          "Miami",
          "Boston",
          "Austin",
          "New York",
          "Miami",
          "Chicago",
          "New York",
          "Miami",
          "Boston",
          "Austin",
          "Chicago",
          "New York",
          "Miami",
          "Boston",
          "Chicago",
          "Austin",
          "Chicago",
          "New York",
          "Boston",
          "Austin",
          "Chicago",
          "New York",
          "Miami",
          "Austin",
          "Chicago",
          "Miami",
          "Austin",
          "New York",
          "Miami",
          "Austin",
          "Miami",
          "Boston",
          "Austin",
          "Miami",
          "Austin",
          "Miami",
          "Austin",
          "Miami",
          "Austin",
          "New York",
          "Miami",
          "Austin",
          "Miami",
          "Boston",
          "Austin",
          "Miami",
          "Boston",
          "Miami",
          "Austin",
          "Chicago",
          "Miami",
          "New York",
          "Miami",
          "Austin",
          "Chicago",
          "Miami",
          "Miami",
          "Boston",
          "Austin"
         ],
         "y": {
          "bdata": "MzMzMzNzTECamZmZmdlQQDMzMzMzM0lAMzMzMzOzS0AzMzMzMxNSQM3MzMzMzFBAMzMzMzMzVUDNzMzMzMxMQM3MzMzMDFJAMzMzMzOTU0DNzMzMzIxPQGZmZmZmJlNAzczMzMwMTUDNzMzMzGxTQJqZmZmZGU1AMzMzMzPTU0AzMzMzM1NQQJqZmZmZ+VJAmpmZmZlZS0AAAAAAAKBUQDMzMzMzM1NAZmZmZmamTEDNzMzMzIxNQGZmZmZmBlVAmpmZmZm5U0AAAAAAAABLQM3MzMzMjExAzczMzMxMVEAAAAAAAMBOQGZmZmZmplJAmpmZmZkZTkDNzMzMzExUQGZmZmZmZk5AZmZmZmbmTEDNzMzMzIxVQM3MzMzMzE1AmpmZmZk5U0AzMzMzM3NLQGZmZmZm5kxAZmZmZmZmUkCamZmZmdlLQDMzMzMzc0hAmpmZmZm5UUAAAAAAAEBKQDMzMzMz80xAmpmZmZkZSkAzMzMzMzNSQDMzMzMzc0ZAzczMzMwMTkDNzMzMzAxSQDMzMzMzU1FAMzMzMzPzRkAzMzMzMxNSQJqZmZmZeVBAAAAAAACASkAzMzMzMzNUQJqZmZmZ2U9AzczMzMxMU0BmZmZmZiZJQM3MzMzMTE1AzczMzMzMUEBmZmZmZmZOQJqZmZmZOVJAAAAAAADAT0DNzMzMzCxRQJqZmZmZuVBAzczMzMxMSkCamZmZmflSQDMzMzMzE1BAZmZmZmZmT0DNzMzMzIxIQGZmZmZmRlBAzczMzMyMUkCamZmZmRlFQM3MzMzMTFFAzczMzMwMTUDNzMzMzMxCQJqZmZmZOVFAmpmZmZkZSEBmZmZmZoZRQM3MzMzMjE1AZmZmZmYmR0BmZmZmZoZRQDMzMzMzk1FAzczMzMzMSUAzMzMzM3NPQA==",
          "dtype": "f8"
         }
        },
        {
         "boxmean": false,
         "boxpoints": false,
         "customdata": [
          [
           56
          ],
          [
           52.9
          ],
          [
           60.3
          ],
          [
           68.4
          ],
          [
           55.6
          ],
          [
           64.3
          ],
          [
           71
          ],
          [
           52.5
          ],
          [
           60.9
          ],
          [
           58
          ],
          [
           60.4
          ],
          [
           67.4
          ],
          [
           70
          ],
          [
           50.3
          ],
          [
           61.5
          ],
          [
           68.8
          ],
          [
           73.8
          ],
          [
           53.4
          ],
          [
           56
          ],
          [
           65
          ],
          [
           55.6
          ],
          [
           59.7
          ],
          [
           61
          ],
          [
           70.5
          ],
          [
           57.6
          ],
          [
           55
          ],
          [
           65.5
          ],
          [
           72.7
          ],
          [
           57.8
          ],
          [
           60
          ],
          [
           67.4
          ],
          [
           58.8
          ],
          [
           72.7
          ],
          [
           68.9
          ],
          [
           52.6
          ],
          [
           58.9
          ],
          [
           70.6
          ],
          [
           76.4
          ],
          [
           59.6
          ],
          [
           69
          ],
          [
           70.7
          ],
          [
           55.7
          ],
          [
           66.3
          ],
          [
           73.2
          ],
          [
           56.7
          ],
          [
           61.2
          ],
          [
           64.7
          ],
          [
           67.1
          ],
          [
           55.7
          ],
          [
           58.2
          ],
          [
           72.6
          ],
          [
           50.8
          ],
          [
           67.3
          ],
          [
           50.9
          ],
          [
           53.2
          ],
          [
           66.8
          ],
          [
           56
          ],
          [
           49.6
          ],
          [
           55.4
          ],
          [
           54
          ],
          [
           59.2
          ],
          [
           46.5
          ],
          [
           52.1
          ],
          [
           60.4
          ],
          [
           40.8
          ],
          [
           63.1
          ],
          [
           45.4
          ],
          [
           50.8
          ],
          [
           52.9
          ],
          [
           50
          ],
          [
           39.3
          ],
          [
           49.3
          ],
          [
           53.8
          ],
          [
           57.3
          ],
          [
           40.3
          ],
          [
           52.1
          ],
          [
           50.1
          ],
          [
           44
          ],
          [
           50.6
          ],
          [
           54.4
          ],
          [
           52.9
          ],
          [
           72.2
          ],
          [
           50.3
          ]
         ],
         "fillcolor": "rgba(255,255,255,0.6)",
         "hoverinfo": "none",
         "hovertemplate": "%{customdata[0]:.1f}°F<extra></extra>",
         "legendgroup": "West",
         "line": {
          "width": 1.5
         },
         "marker": {
          "color": "#EF553B"
         },
         "name": "West",
         "showlegend": true,
         "type": "box",
         "visible": false,
         "x": [
          "Seattle",
          "Portland",
          "San Francisco",
          "Los Angeles",
          "Seattle",
          "San Francisco",
          "Los Angeles",
          "Denver",
          "San Francisco",
          "Denver",
          "Portland",
          "San Francisco",
          "Los Angeles",
          "Denver",
          "Portland",
          "San Francisco",
          "Los Angeles",
          "Denver",
          "Seattle",
          "San Francisco",
          "Seattle",
          "Portland",
          "San Francisco",
          "Los Angeles",
          "Denver",
          "Seattle",
          "San Francisco",
          "Los Angeles",
          "Denver",
          "Seattle",
          "Portland",
          "San Francisco",
          "Los Angeles",
          "San Francisco",
          "Denver",
          "Portland",
          "San Francisco",
          "Los Angeles",
          "Denver",
          "San Francisco",
          "Los Angeles",
          "Denver",
          "San Francisco",
          "Los Angeles",
          "Denver",
          "Portland",
          "Los Angeles",
          "Los Angeles",
          "Portland",
          "San Francisco",
          "Los Angeles",
          "Portland",
          "Los Angeles",
          "Seattle",
          "Portland",
          "Los Angeles",
          "Los Angeles",
          "Denver",
          "Portland",
          "San Francisco",
          "Los Angeles",
          "Seattle",
          "San Francisco",
          "Los Angeles",
          "Denver",
          "Los Angeles",
          "Seattle",
          "San Francisco",
          "Los Angeles",
          "San Francisco",
          "Denver",
          "Portland",
          "San Francisco",
          "Los Angeles",
          "Denver",
          "San Francisco",
          "Seattle",
          "Denver",
          "Seattle",
          "Portland",
          "Seattle",
          "Los Angeles",
          "Denver"
         ],
         "y": {
          "bdata": "AAAAAAAATEAzMzMzM3NKQGZmZmZmJk5AmpmZmZkZUUDNzMzMzMxLQDMzMzMzE1BAAAAAAADAUUAAAAAAAEBKQDMzMzMzc05AAAAAAAAATUAzMzMzMzNOQJqZmZmZ2VBAAAAAAACAUUBmZmZmZiZJQAAAAAAAwE5AMzMzMzMzUUAzMzMzM3NSQDMzMzMzs0pAAAAAAAAATEAAAAAAAEBQQM3MzMzMzEtAmpmZmZnZTUAAAAAAAIBOQAAAAAAAoFFAzczMzMzMTEAAAAAAAIBLQAAAAAAAYFBAzczMzMwsUkBmZmZmZuZMQAAAAAAAAE5AmpmZmZnZUEBmZmZmZmZNQM3MzMzMLFJAmpmZmZk5UUDNzMzMzExKQDMzMzMzc01AZmZmZmamUUCamZmZmRlTQM3MzMzMzE1AAAAAAABAUUDNzMzMzKxRQJqZmZmZ2UtAMzMzMzOTUEDNzMzMzExSQJqZmZmZWUxAmpmZmZmZTkDNzMzMzCxQQGZmZmZmxlBAmpmZmZnZS0CamZmZmRlNQGZmZmZmJlJAZmZmZmZmSUAzMzMzM9NQQDMzMzMzc0lAmpmZmZmZSkAzMzMzM7NQQAAAAAAAAExAzczMzMzMSEAzMzMzM7NLQAAAAAAAAEtAmpmZmZmZTUAAAAAAAEBHQM3MzMzMDEpAMzMzMzMzTkBmZmZmZmZEQM3MzMzMjE9AMzMzMzOzRkBmZmZmZmZJQDMzMzMzc0pAAAAAAAAASUBmZmZmZqZDQGZmZmZmpkhAZmZmZmbmSkBmZmZmZqZMQGZmZmZmJkRAzczMzMwMSkDNzMzMzAxJQAAAAAAAAEZAzczMzMxMSUAzMzMzMzNLQDMzMzMzc0pAzczMzMwMUkBmZmZmZiZJQA==",
          "dtype": "f8"
         }
        }
       ],
       "layout": {
        "boxmode": "group",
        "font": {
         "size": 12
        },
        "height": 500,
        "hoverlabel": {
         "bgcolor": "white",
         "font": {
          "size": 12
         }
        },
        "hovermode": "closest",
        "legend": {
         "itemclick": "toggleothers",
         "itemdoubleclick": "toggle"
        },
        "template": {
         "data": {
          "bar": [
           {
            "error_x": {
             "color": "#2a3f5f"
            },
            "error_y": {
             "color": "#2a3f5f"
            },
            "marker": {
             "line": {
              "color": "#E5ECF6",
              "width": 0.5
             },
             "pattern": {
              "fillmode": "overlay",
              "size": 10,
              "solidity": 0.2
             }
            },
            "type": "bar"
           }
          ],
          "barpolar": [
           {
            "marker": {
             "line": {
              "color": "#E5ECF6",
              "width": 0.5
             },
             "pattern": {
              "fillmode": "overlay",
              "size": 10,
              "solidity": 0.2
             }
            },
            "type": "barpolar"
           }
          ],
          "carpet": [
           {
            "aaxis": {
             "endlinecolor": "#2a3f5f",
             "gridcolor": "white",
             "linecolor": "white",
             "minorgridcolor": "white",
             "startlinecolor": "#2a3f5f"
            },
            "baxis": {
             "endlinecolor": "#2a3f5f",
             "gridcolor": "white",
             "linecolor": "white",
             "minorgridcolor": "white",
             "startlinecolor": "#2a3f5f"
            },
            "type": "carpet"
           }
          ],
          "choropleth": [
           {
            "colorbar": {
             "outlinewidth": 0,
             "ticks": ""
            },
            "type": "choropleth"
           }
          ],
          "contour": [
           {
            "colorbar": {
             "outlinewidth": 0,
             "ticks": ""
            },
            "colorscale": [
             [
              0,
              "#0d0887"
             ],
             [
              0.1111111111111111,
              "#46039f"
             ],
             [
              0.2222222222222222,
              "#7201a8"
             ],
             [
              0.3333333333333333,
              "#9c179e"
             ],
             [
              0.4444444444444444,
              "#bd3786"
             ],
             [
              0.5555555555555556,
              "#d8576b"
             ],
             [
              0.6666666666666666,
              "#ed7953"
             ],
             [
              0.7777777777777778,
              "#fb9f3a"
             ],
             [
              0.8888888888888888,
              "#fdca26"
             ],
             [
              1,
              "#f0f921"
             ]
            ],
            "type": "contour"
           }
          ],
          "contourcarpet": [
           {
            "colorbar": {
             "outlinewidth": 0,
             "ticks": ""
            },
            "type": "contourcarpet"
           }
          ],
          "heatmap": [
           {
            "colorbar": {
             "outlinewidth": 0,
             "ticks": ""
            },
            "colorscale": [
             [
              0,
              "#0d0887"
             ],
             [
              0.1111111111111111,
              "#46039f"
             ],
             [
              0.2222222222222222,
              "#7201a8"
             ],
             [
              0.3333333333333333,
              "#9c179e"
             ],
             [
              0.4444444444444444,
              "#bd3786"
             ],
             [
              0.5555555555555556,
              "#d8576b"
             ],
             [
              0.6666666666666666,
              "#ed7953"
             ],
             [
              0.7777777777777778,
              "#fb9f3a"
             ],
             [
              0.8888888888888888,
              "#fdca26"
             ],
             [
              1,
              "#f0f921"
             ]
            ],
            "type": "heatmap"
           }
          ],
          "histogram": [
           {
            "marker": {
             "pattern": {
              "fillmode": "overlay",
              "size": 10,
              "solidity": 0.2
             }
            },
            "type": "histogram"
           }
          ],
          "histogram2d": [
           {
            "colorbar": {
             "outlinewidth": 0,
             "ticks": ""
            },
            "colorscale": [
             [
              0,
              "#0d0887"
             ],
             [
              0.1111111111111111,
              "#46039f"
             ],
             [
              0.2222222222222222,
              "#7201a8"
             ],
             [
              0.3333333333333333,
              "#9c179e"
             ],
             [
              0.4444444444444444,
              "#bd3786"
             ],
             [
              0.5555555555555556,
              "#d8576b"
             ],
             [
              0.6666666666666666,
              "#ed7953"
             ],
             [
              0.7777777777777778,
              "#fb9f3a"
             ],
             [
              0.8888888888888888,
              "#fdca26"
             ],
             [
              1,
              "#f0f921"
             ]
            ],
            "type": "histogram2d"
           }
          ],
          "histogram2dcontour": [
           {
            "colorbar": {
             "outlinewidth": 0,
             "ticks": ""
            },
            "colorscale": [
             [
              0,
              "#0d0887"
             ],
             [
              0.1111111111111111,
              "#46039f"
             ],
             [
              0.2222222222222222,
              "#7201a8"
             ],
             [
              0.3333333333333333,
              "#9c179e"
             ],
             [
              0.4444444444444444,
              "#bd3786"
             ],
             [
              0.5555555555555556,
              "#d8576b"
             ],
             [
              0.6666666666666666,
              "#ed7953"
             ],
             [
              0.7777777777777778,
              "#fb9f3a"
             ],
             [
              0.8888888888888888,
              "#fdca26"
             ],
             [
              1,
              "#f0f921"
             ]
            ],
            "type": "histogram2dcontour"
           }
          ],
          "mesh3d": [
           {
            "colorbar": {
             "outlinewidth": 0,
             "ticks": ""
            },
            "type": "mesh3d"
           }
          ],
          "parcoords": [
           {
            "line": {
             "colorbar": {
              "outlinewidth": 0,
              "ticks": ""
             }
            },
            "type": "parcoords"
           }
          ],
          "pie": [
           {
            "automargin": true,
            "type": "pie"
           }
          ],
          "scatter": [
           {
            "fillpattern": {
             "fillmode": "overlay",
             "size": 10,
             "solidity": 0.2
            },
            "type": "scatter"
           }
          ],
          "scatter3d": [
           {
            "line": {
             "colorbar": {
              "outlinewidth": 0,
              "ticks": ""
             }
            },
            "marker": {
             "colorbar": {
              "outlinewidth": 0,
              "ticks": ""
             }
            },
            "type": "scatter3d"
           }
          ],
          "scattercarpet": [
           {
            "marker": {
             "colorbar": {
              "outlinewidth": 0,
              "ticks": ""
             }
            },
            "type": "scattercarpet"
           }
          ],
          "scattergeo": [
           {
            "marker": {
             "colorbar": {
              "outlinewidth": 0,
              "ticks": ""
             }
            },
            "type": "scattergeo"
           }
          ],
          "scattergl": [
           {
            "marker": {
             "colorbar": {
              "outlinewidth": 0,
              "ticks": ""
             }
            },
            "type": "scattergl"
           }
          ],
          "scattermap": [
           {
            "marker": {
             "colorbar": {
              "outlinewidth": 0,
              "ticks": ""
             }
            },
            "type": "scattermap"
           }
          ],
          "scattermapbox": [
           {
            "marker": {
             "colorbar": {
              "outlinewidth": 0,
              "ticks": ""
             }
            },
            "type": "scattermapbox"
           }
          ],
          "scatterpolar": [
           {
            "marker": {
             "colorbar": {
              "outlinewidth": 0,
              "ticks": ""
             }
            },
            "type": "scatterpolar"
           }
          ],
          "scatterpolargl": [
           {
            "marker": {
             "colorbar": {
              "outlinewidth": 0,
              "ticks": ""
             }
            },
            "type": "scatterpolargl"
           }
          ],
          "scatterternary": [
           {
            "marker": {
             "colorbar": {
              "outlinewidth": 0,
              "ticks": ""
             }
            },
            "type": "scatterternary"
           }
          ],
          "surface": [
           {
            "colorbar": {
             "outlinewidth": 0,
             "ticks": ""
            },
            "colorscale": [
             [
              0,
              "#0d0887"
             ],
             [
              0.1111111111111111,
              "#46039f"
             ],
             [
              0.2222222222222222,
              "#7201a8"
             ],
             [
              0.3333333333333333,
              "#9c179e"
             ],
             [
              0.4444444444444444,
              "#bd3786"
             ],
             [
              0.5555555555555556,
              "#d8576b"
             ],
             [
              0.6666666666666666,
              "#ed7953"
             ],
             [
              0.7777777777777778,
              "#fb9f3a"
             ],
             [
              0.8888888888888888,
              "#fdca26"
             ],
             [
              1,
              "#f0f921"
             ]
            ],
            "type": "surface"
           }
          ],
          "table": [
           {
            "cells": {
             "fill": {
              "color": "#EBF0F8"
             },
             "line": {
              "color": "white"
             }
            },
            "header": {
             "fill": {
              "color": "#C8D4E3"
             },
             "line": {
              "color": "white"
             }
            },
            "type": "table"
           }
          ]
         },
         "layout": {
          "annotationdefaults": {
           "arrowcolor": "#2a3f5f",
           "arrowhead": 0,
           "arrowwidth": 1
          },
          "autotypenumbers": "strict",
          "coloraxis": {
           "colorbar": {
            "outlinewidth": 0,
            "ticks": ""
           }
          },
          "colorscale": {
           "diverging": [
            [
             0,
             "#8e0152"
            ],
            [
             0.1,
             "#c51b7d"
            ],
            [
             0.2,
             "#de77ae"
            ],
            [
             0.3,
             "#f1b6da"
            ],
            [
             0.4,
             "#fde0ef"
            ],
            [
             0.5,
             "#f7f7f7"
            ],
            [
             0.6,
             "#e6f5d0"
            ],
            [
             0.7,
             "#b8e186"
            ],
            [
             0.8,
             "#7fbc41"
            ],
            [
             0.9,
             "#4d9221"
            ],
            [
             1,
             "#276419"
            ]
           ],
           "sequential": [
            [
             0,
             "#0d0887"
            ],
            [
             0.1111111111111111,
             "#46039f"
            ],
            [
             0.2222222222222222,
             "#7201a8"
            ],
            [
             0.3333333333333333,
             "#9c179e"
            ],
            [
             0.4444444444444444,
             "#bd3786"
            ],
            [
             0.5555555555555556,
             "#d8576b"
            ],
            [
             0.6666666666666666,
             "#ed7953"
            ],
            [
             0.7777777777777778,
             "#fb9f3a"
            ],
            [
             0.8888888888888888,
             "#fdca26"
            ],
            [
             1,
             "#f0f921"
            ]
           ],
           "sequentialminus": [
            [
             0,
             "#0d0887"
            ],
            [
             0.1111111111111111,
             "#46039f"
            ],
            [
             0.2222222222222222,
             "#7201a8"
            ],
            [
             0.3333333333333333,
             "#9c179e"
            ],
            [
             0.4444444444444444,
             "#bd3786"
            ],
            [
             0.5555555555555556,
             "#d8576b"
            ],
            [
             0.6666666666666666,
             "#ed7953"
            ],
            [
             0.7777777777777778,
             "#fb9f3a"
            ],
            [
             0.8888888888888888,
             "#fdca26"
            ],
            [
             1,
             "#f0f921"
            ]
           ]
          },
          "colorway": [
           "#636efa",
           "#EF553B",
           "#00cc96",
           "#ab63fa",
           "#FFA15A",
           "#19d3f3",
           "#FF6692",
           "#B6E880",
           "#FF97FF",
           "#FECB52"
          ],
          "font": {
           "color": "#2a3f5f"
          },
          "geo": {
           "bgcolor": "white",
           "lakecolor": "white",
           "landcolor": "#E5ECF6",
           "showlakes": true,
           "showland": true,
           "subunitcolor": "white"
          },
          "hoverlabel": {
           "align": "left"
          },
          "hovermode": "closest",
          "mapbox": {
           "style": "light"
          },
          "paper_bgcolor": "white",
          "plot_bgcolor": "#E5ECF6",
          "polar": {
           "angularaxis": {
            "gridcolor": "white",
            "linecolor": "white",
            "ticks": ""
           },
           "bgcolor": "#E5ECF6",
           "radialaxis": {
            "gridcolor": "white",
            "linecolor": "white",
            "ticks": ""
           }
          },
          "scene": {
           "xaxis": {
            "backgroundcolor": "#E5ECF6",
            "gridcolor": "white",
            "gridwidth": 2,
            "linecolor": "white",
            "showbackground": true,
            "ticks": "",
            "zerolinecolor": "white"
           },
           "yaxis": {
            "backgroundcolor": "#E5ECF6",
            "gridcolor": "white",
            "gridwidth": 2,
            "linecolor": "white",
            "showbackground": true,
            "ticks": "",
            "zerolinecolor": "white"
           },
           "zaxis": {
            "backgroundcolor": "#E5ECF6",
            "gridcolor": "white",
            "gridwidth": 2,
            "linecolor": "white",
            "showbackground": true,
            "ticks": "",
            "zerolinecolor": "white"
           }
          },
          "shapedefaults": {
           "line": {
            "color": "#2a3f5f"
           }
          },
          "ternary": {
           "aaxis": {
            "gridcolor": "white",
            "linecolor": "white",
            "ticks": ""
           },
           "baxis": {
            "gridcolor": "white",
            "linecolor": "white",
            "ticks": ""
           },
           "bgcolor": "#E5ECF6",
           "caxis": {
            "gridcolor": "white",
            "linecolor": "white",
            "ticks": ""
           }
          },
          "title": {
           "x": 0.05
          },
          "xaxis": {
           "automargin": true,
           "gridcolor": "white",
           "linecolor": "white",
           "ticks": "",
           "title": {
            "standoff": 15
           },
           "zerolinecolor": "white",
           "zerolinewidth": 2
          },
          "yaxis": {
           "automargin": true,
           "gridcolor": "white",
           "linecolor": "white",
           "ticks": "",
           "title": {
            "standoff": 15
           },
           "zerolinecolor": "white",
           "zerolinewidth": 2
          }
         }
        },
        "title": {
         "text": "Temperature Distribution by City",
         "x": 0.5
        },
        "uirevision": "same",
        "updatemenus": [
         {
          "buttons": [
           {
            "args": [
             {
              "visible": [
               true,
               true,
               false,
               false,
               false,
               false,
               false,
               false,
               false,
               false
              ]
             },
             {
              "autorange": true
             }
            ],
            "label": "All Conditions",
            "method": "update"
           },
           {
            "args": [
             {
              "visible": [
               false,
               false,
               true,
               true,
               false,
               false,
               false,
               false,
               false,
               false
              ]
             },
             {
              "autorange": true
             }
            ],
            "label": "Cloudy",
            "method": "update"
           },
           {
            "args": [
             {
              "visible": [
               false,
               false,
               false,
               false,
               true,
               true,
               false,
               false,
               false,
               false
              ]
             },
             {
              "autorange": true
             }
            ],
            "label": "Partly Cloudy",
            "method": "update"
           },
           {
            "args": [
             {
              "visible": [
               false,
               false,
               false,
               false,
               false,
               false,
               true,
               true,
               false,
               false
              ]
             },
             {
              "autorange": true
             }
            ],
            "label": "Rainy",
            "method": "update"
           },
           {
            "args": [
             {
              "visible": [
               false,
               false,
               false,
               false,
               false,
               false,
               false,
               false,
               true,
               true
              ]
             },
             {
              "autorange": true
             }
            ],
            "label": "Sunny",
            "method": "update"
           }
          ],
          "direction": "down",
          "showactive": true,
          "x": 0.1,
          "y": 1.15
         }
        ],
        "width": 800,
        "xaxis": {
         "title": {
          "text": "City"
         }
        },
        "yaxis": {
         "title": {
          "text": "Temperature (°F)"
         }
        }
       }
      }
     },
     "metadata": {},
     "output_type": "display_data"
    },
    {
     "data": {
      "text/plain": [
       "<Figure size 640x480 with 0 Axes>"
      ]
     },
     "metadata": {},
     "output_type": "display_data"
    }
   ],
   "source": [
    "import plotly.express as px\n",
    "import plotly.graph_objects as go\n",
    "\n",
    "# Create figure\n",
    "fig = go.Figure()\n",
    "\n",
    "# Get unique regions and conditions\n",
    "regions = sorted(df['region'].unique())\n",
    "conditions = sorted(df['condition'].unique())\n",
    "\n",
    "# Add traces for \"All Conditions\" (default view)\n",
    "for i, region in enumerate(regions):\n",
    "    region_data = df[df['region'] == region]\n",
    "\n",
    "    # For the \"All Conditions\" traces\n",
    "    fig.add_trace(go.Box(\n",
    "        x=region_data['city'],\n",
    "        y=region_data['temperature'],\n",
    "        name=region,\n",
    "        legendgroup=region,\n",
    "        showlegend=True,\n",
    "        boxmean=False,\n",
    "        marker_color=px.colors.qualitative.Plotly[i % len(px.colors.qualitative.Plotly)],\n",
    "        visible=True,\n",
    "        hoverinfo='none',  # Disable default hover\n",
    "        customdata=[[temp] for temp in region_data['temperature']],  # Pass temperature as custom data\n",
    "        hovertemplate='%{customdata[0]:.1f}°F<extra></extra>',  # Use custom data for hover\n",
    "        boxpoints=False,\n",
    "        line_width=1.5\n",
    "    ))\n",
    "\n",
    "# Create a separate figure for each condition\n",
    "condition_figures = {}\n",
    "for condition in conditions:\n",
    "    condition_figures[condition] = []\n",
    "    processed_regions = set()\n",
    "    \n",
    "    for i, region in enumerate(regions):\n",
    "        condition_data = df[df['condition'] == condition]\n",
    "        region_condition_data = condition_data[condition_data['region'] == region]\n",
    "        \n",
    "        if len(region_condition_data) == 0:\n",
    "            continue\n",
    "        \n",
    "        show_in_legend = region not in processed_regions\n",
    "        if show_in_legend:\n",
    "            processed_regions.add(region)\n",
    "        \n",
    "        # Box plot for each condition\n",
    "        trace = go.Box(\n",
    "            x=region_condition_data['city'],\n",
    "            y=region_condition_data['temperature'],\n",
    "            name=region,\n",
    "            legendgroup=region,\n",
    "            showlegend=show_in_legend,\n",
    "            boxmean=False,\n",
    "            marker_color=px.colors.qualitative.Plotly[i % len(px.colors.qualitative.Plotly)],\n",
    "            visible=False,\n",
    "            hoverinfo='none',  # Disable default hover\n",
    "            customdata=[[temp] for temp in region_condition_data['temperature']],  # Pass temperature as custom data\n",
    "            hovertemplate='%{customdata[0]:.1f}°F<extra></extra>',  # Use custom data for hover\n",
    "            boxpoints=False,\n",
    "            line_width=1.5\n",
    "        )\n",
    "        \n",
    "        fig.add_trace(trace)\n",
    "        condition_figures[condition].append(len(fig.data) - 1)\n",
    "\n",
    "# Create dropdown menu\n",
    "buttons = []\n",
    "traces_per_view = len(regions)\n",
    "\n",
    "# Button for \"All Conditions\"\n",
    "all_visible = [False] * len(fig.data)\n",
    "for i in range(traces_per_view):\n",
    "    all_visible[i] = True\n",
    "\n",
    "buttons.append(dict(\n",
    "    method='update',\n",
    "    label='All Conditions',\n",
    "    args=[{'visible': all_visible}, {'autorange': True}]\n",
    "))\n",
    "\n",
    "# Button for each condition\n",
    "for condition in conditions:\n",
    "    condition_visible = [False] * len(fig.data)\n",
    "    \n",
    "    for trace_idx in condition_figures[condition]:\n",
    "        condition_visible[trace_idx] = True\n",
    "    \n",
    "    buttons.append(dict(\n",
    "        method='update',\n",
    "        label=condition,\n",
    "        args=[{'visible': condition_visible}, {'autorange': True}]\n",
    "    ))\n",
    "\n",
    "# Update layout\n",
    "fig.update_layout(\n",
    "    title={'text': 'Temperature Distribution by City', 'x': 0.5},\n",
    "    xaxis_title='City',\n",
    "    yaxis_title='Temperature (°F)',\n",
    "    boxmode='group',\n",
    "    height=500,\n",
    "    width=800,\n",
    "    font=dict(size=12),\n",
    "    updatemenus=[{\n",
    "        'buttons': buttons,\n",
    "        'direction': 'down',\n",
    "        'showactive': True,\n",
    "        'x': 0.1,\n",
    "        'y': 1.15,\n",
    "    }],\n",
    "    uirevision='same',\n",
    "    legend=dict(\n",
    "        itemclick='toggleothers',\n",
    "        itemdoubleclick='toggle'\n",
    "    ),\n",
    "    hovermode='closest'\n",
    ")\n",
    "\n",
    "fig.update_layout(\n",
    "    hoverlabel=dict(bgcolor=\"white\", font_size=12)\n",
    ")\n",
    "\n",
    "# Apply only visual properties, not hover properties\n",
    "for trace in fig.data:\n",
    "    trace.fillcolor = 'rgba(255,255,255,0.6)'\n",
    "\n",
    "fig.show()\n",
    "\n",
    "plt.tight_layout()"
   ]
  }
 ],
 "metadata": {
  "kernelspec": {
   "display_name": "djpyworkshop",
   "language": "python",
   "name": "python3"
  },
  "language_info": {
   "codemirror_mode": {
    "name": "ipython",
    "version": 3
   },
   "file_extension": ".py",
   "mimetype": "text/x-python",
   "name": "python",
   "nbconvert_exporter": "python",
   "pygments_lexer": "ipython3",
   "version": "3.12.9"
  }
 },
 "nbformat": 4,
 "nbformat_minor": 2
}
