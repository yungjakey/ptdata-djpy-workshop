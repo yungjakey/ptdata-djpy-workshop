{
 "cells": [
  {
   "cell_type": "markdown",
   "metadata": {},
   "source": [
    "# Execute R Commands with Parameters\n",
    "Show how to pass variables between Python and R, and execute parameterized R commands."
   ]
  },
  {
   "cell_type": "code",
   "execution_count": null,
   "metadata": {},
   "outputs": [],
   "source": [
    "# Execute R Commands with Parameters\n",
    "\n",
    "# Define a Python variable\n",
    "python_variable = 10\n",
    "\n",
    "# Pass the Python variable to R and execute an R command using %%R magic command\n",
    "%%R -i python_variable\n",
    "# Use the passed Python variable in an R command\n",
    "r_result <- python_variable * 2\n",
    "print(r_result)\n",
    "\n",
    "# Define another Python variable\n",
    "python_vector = [1, 2, 3, 4, 5]\n",
    "\n",
    "# Pass the Python vector to R and execute an R command using %%R magic command\n",
    "%%R -i python_vector\n",
    "# Use the passed Python vector in an R command\n",
    "r_sum <- sum(python_vector)\n",
    "print(r_sum)\n",
    "\n",
    "# Define a Python dictionary\n",
    "python_dict = {'a': 1, 'b': 2, 'c': 3}\n",
    "\n",
    "# Pass the Python dictionary to R and execute an R command using %%R magic command\n",
    "%%R -i python_dict\n",
    "# Convert the passed Python dictionary to an R list and print it\n",
    "r_list <- as.list(python_dict)\n",
    "print(r_list)"
   ]
  },
  {
   "cell_type": "markdown",
   "metadata": {},
   "source": [
    "# Handle R Output in Jupyter\n",
    "Display and capture R command outputs, including plots and dataframes in the notebook."
   ]
  },
  {
   "cell_type": "code",
   "execution_count": null,
   "metadata": {},
   "outputs": [],
   "source": [
    "# Handle R Output in Jupyter\n",
    "\n",
    "# Display and capture R command outputs, including plots and dataframes in the notebook\n",
    "\n",
    "# Display a plot generated in R\n",
    "%%R\n",
    "# Load necessary library\n",
    "library(ggplot2)\n",
    "\n",
    "# Create a simple plot\n",
    "ggplot(data = mtcars, aes(x = wt, y = mpg)) +\n",
    "  geom_point() +\n",
    "  ggtitle(\"Scatter plot of wt vs mpg\")\n",
    "\n",
    "# Capture an R dataframe output and display it in Python\n",
    "%%R -o my_dataframe\n",
    "# Create a simple dataframe in R\n",
    "my_dataframe <- data.frame(\n",
    "  column1 = c(10, 20, 30),\n",
    "  column2 = c('X', 'Y', 'Z')\n",
    ")\n",
    "\n",
    "# Display the captured dataframe in Python\n",
    "print(my_dataframe)"
   ]
  }
 ],
 "metadata": {
  "language_info": {
   "name": "python"
  }
 },
 "nbformat": 4,
 "nbformat_minor": 2
}
