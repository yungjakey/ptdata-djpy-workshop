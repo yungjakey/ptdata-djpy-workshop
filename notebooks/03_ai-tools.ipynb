{
 "cells": [
  {
   "cell_type": "markdown",
   "metadata": {},
   "source": [
    "# Import Required Libraries\n",
    "Import the necessary libraries for file handling, HTTP requests, and the Gemini API."
   ]
  },
  {
   "cell_type": "code",
   "execution_count": 1,
   "metadata": {},
   "outputs": [
    {
     "ename": "ModuleNotFoundError",
     "evalue": "No module named 'google'",
     "output_type": "error",
     "traceback": [
      "\u001b[0;31m---------------------------------------------------------------------------\u001b[0m",
      "\u001b[0;31mModuleNotFoundError\u001b[0m                       Traceback (most recent call last)",
      "Cell \u001b[0;32mIn[1], line 3\u001b[0m\n\u001b[1;32m      1\u001b[0m \u001b[38;5;28;01mimport\u001b[39;00m\u001b[38;5;250m \u001b[39m\u001b[38;5;21;01mos\u001b[39;00m\n\u001b[1;32m      2\u001b[0m \u001b[38;5;28;01mimport\u001b[39;00m\u001b[38;5;250m \u001b[39m\u001b[38;5;21;01mrequests\u001b[39;00m\n\u001b[0;32m----> 3\u001b[0m \u001b[38;5;28;01mfrom\u001b[39;00m\u001b[38;5;250m \u001b[39m\u001b[38;5;21;01mgoogle\u001b[39;00m\u001b[38;5;250m \u001b[39m\u001b[38;5;28;01mimport\u001b[39;00m genai\n\u001b[1;32m      4\u001b[0m \u001b[38;5;28;01mfrom\u001b[39;00m\u001b[38;5;250m \u001b[39m\u001b[38;5;21;01mgoogle\u001b[39;00m\u001b[38;5;21;01m.\u001b[39;00m\u001b[38;5;21;01mgenai\u001b[39;00m\u001b[38;5;250m \u001b[39m\u001b[38;5;28;01mimport\u001b[39;00m types\n\u001b[1;32m      6\u001b[0m \u001b[38;5;66;03m# Ensure required libraries are imported for file handling, HTTP requests, and Gemini API usage.\u001b[39;00m\n",
      "\u001b[0;31mModuleNotFoundError\u001b[0m: No module named 'google'"
     ]
    }
   ],
   "source": [
    "import os\n",
    "import requests\n",
    "from google import genai\n",
    "from google.genai import types\n",
    "\n",
    "# Ensure required libraries are imported for file handling, HTTP requests, and Gemini API usage."
   ]
  },
  {
   "cell_type": "markdown",
   "metadata": {},
   "source": [
    "# Define Helper Functions and News URLs\n",
    "Define the list of 20 German/European news sources and create helper functions for fetching content and generating filenames."
   ]
  },
  {
   "cell_type": "code",
   "execution_count": null,
   "metadata": {},
   "outputs": [],
   "source": [
    "# Define the list of 20 German/European news sources\n",
    "NEWS_URLS = [\n",
    "    \"https://www.spiegel.de\",\n",
    "    \"https://www.sueddeutsche.de\",\n",
    "    \"https://www.faz.net\",\n",
    "    \"https://www.welt.de\",\n",
    "    \"https://www.tagesschau.de\",\n",
    "    \"https://www.n-tv.de\",\n",
    "    \"https://www.handelsblatt.com\",\n",
    "    \"https://www.dw.com\",\n",
    "    \"https://www.bild.de\",\n",
    "    \"https://www.heise.de\",\n",
    "    \"https://www.lemonde.fr\",\n",
    "    \"https://www.lefigaro.fr\",\n",
    "    \"https://www.corriere.it\",\n",
    "    \"https://www.repubblica.it\",\n",
    "    \"https://www.theguardian.com\",\n",
    "    \"https://www.elpais.com\",\n",
    "    \"https://www.lavanguardia.com\",\n",
    "    \"https://www.euronews.com\",\n",
    "    \"https://www.ft.com\",\n",
    "    \"https://www.diepresse.com\",\n",
    "]\n",
    "\n",
    "# Define the output directory for saving fetched content\n",
    "out_dir = Path(\"../data03_ai-tools\")\n",
    "out_dir.mkdir(parents=True, exist_ok=True)\n",
    "\n",
    "\n",
    "# Helper function to fetch content from a URL\n",
    "def fetch_md(url):\n",
    "    try:\n",
    "        r = requests.get(\"https://r.jina.ai/\" + url, timeout=15)\n",
    "        r.raise_for_status()\n",
    "        return r.json().get(\"content\", \"\")\n",
    "    except Exception as e:\n",
    "        return f\"Error: {e}\"\n",
    "\n",
    "\n",
    "# Helper function to generate a filename from a URL\n",
    "def fname(url):\n",
    "    d = url.split(\"//\")[-1]\n",
    "    if d.startswith(\"www.\"):\n",
    "        d = d[4:]\n",
    "    return f\"{d.replace('/', '_')}.md\""
   ]
  },
  {
   "cell_type": "markdown",
   "metadata": {},
   "source": [
    "# Fetch and Save News Articles\n",
    "Loop through the news URLs, fetch content for each one, and save the retrieved markdown content to files."
   ]
  },
  {
   "cell_type": "code",
   "execution_count": null,
   "metadata": {},
   "outputs": [],
   "source": [
    "# Loop through the news URLs, fetch content for each one, and save the retrieved markdown content to files\n",
    "for url in NEWS_URLS:\n",
    "    md = fetch_md(url)  # Fetch markdown content for the URL\n",
    "    if md:  # If content is successfully fetched\n",
    "        with open(out_dir / fname(url), \"w\", encoding=\"utf-8\") as f:\n",
    "            f.write(md)  # Save the content to a file in the output directory"
   ]
  },
  {
   "cell_type": "markdown",
   "metadata": {},
   "source": [
    "# Load Saved Articles\n",
    "Read the saved markdown files and load their contents into a dictionary for further processing."
   ]
  },
  {
   "cell_type": "code",
   "execution_count": null,
   "metadata": {},
   "outputs": [],
   "source": [
    "# Load saved markdown files into a dictionary\n",
    "articles = {}\n",
    "for file in out_dir.glob(\n",
    "    \"*.md\"\n",
    "):  # Iterate through all markdown files in the output directory\n",
    "    with open(file, encoding=\"utf-8\") as f:  # Open each file with UTF-8 encoding\n",
    "        articles[file.stem] = (\n",
    "            f.read()\n",
    "        )  # Use the file stem (name without extension) as the key and file content as the value"
   ]
  },
  {
   "cell_type": "markdown",
   "metadata": {},
   "source": [
    "# Initialize Gemini Client\n",
    "Set up the Gemini client using API keys from environment variables and configure the model to use."
   ]
  },
  {
   "cell_type": "code",
   "execution_count": null,
   "metadata": {},
   "outputs": [],
   "source": [
    "# Initialize Gemini client using environment variables\n",
    "API_KEY = os.environ.get(\n",
    "    \"GEMINI_API_KEY\"\n",
    ")  # Retrieve the API key from environment variables\n",
    "if not API_KEY:  # Raise an error if the API key is not set\n",
    "    raise ValueError(\"GEMINI_API_KEY not set\")\n",
    "\n",
    "MODEL = os.environ.get(\n",
    "    \"GEMINI_MODEL\", \"gemini-2.0-flash\"\n",
    ")  # Retrieve the model name or use a default value\n",
    "client = genai.Client(api_key=API_KEY)  # Initialize the Gemini client with the API key"
   ]
  },
  {
   "cell_type": "markdown",
   "metadata": {},
   "source": [
    "# Create Gemini Query Function\n",
    "Create a function to send prompts to the Gemini API and retrieve responses with appropriate configuration."
   ]
  },
  {
   "cell_type": "code",
   "execution_count": null,
   "metadata": {},
   "outputs": [],
   "source": [
    "def gemini_query(prompt):\n",
    "    \"\"\"\n",
    "    Sends a prompt to the Gemini API and retrieves the response.\n",
    "\n",
    "    Args:\n",
    "        prompt (str): The input prompt to send to the Gemini API.\n",
    "\n",
    "    Returns:\n",
    "        str: The text response from the Gemini API.\n",
    "    \"\"\"\n",
    "    try:\n",
    "        # Use the Gemini client to generate content based on the prompt\n",
    "        response = client.models.generate_content(\n",
    "            model=MODEL,\n",
    "            contents=prompt,\n",
    "            config=types.GenerateContentConfig(\n",
    "                max_output_tokens=500,  # Limit the output tokens\n",
    "                temperature=0.3,  # Set the temperature for response variability\n",
    "            ),\n",
    "        )\n",
    "        return response.text  # Return the text response\n",
    "    except Exception as e:\n",
    "        return f\"Error: {e}\"  # Handle any exceptions and return the error message"
   ]
  },
  {
   "cell_type": "markdown",
   "metadata": {},
   "source": [
    "# Execute Different Gemini Queries\n",
    "Run five different types of queries on the collected news data: individual summaries, trend extraction from a specific source, creative summary, overall news trends analysis, and technology/AI coverage analysis."
   ]
  },
  {
   "cell_type": "code",
   "execution_count": null,
   "metadata": {},
   "outputs": [],
   "source": [
    "# Query 1: Summarize main headlines for each individual article\n",
    "print(\"=== Query 1: Summaries for individual pages ===\")\n",
    "for name, content in articles.items():\n",
    "    prompt = f\"Summarize the main headlines and key news on the following page from {name}:\\n\\n{content[:1000]}\"\n",
    "    summary = gemini_query(prompt)\n",
    "    print(f\"\\n[{name}]\")\n",
    "    print(summary)\n",
    "\n",
    "# Query 2: Extract emerging trends from a specific source (e.g., \"spiegel.de\")\n",
    "if \"spiegel.de\" in articles:\n",
    "    prompt = f\"From the following content from spiegel.de, list 3 emerging news trends:\\n\\n{articles['spiegel.de'][:1500]}\"\n",
    "    print(\"\\n=== Query 2: Emerging trends on spiegel.de ===\")\n",
    "    print(gemini_query(prompt))\n",
    "\n",
    "# Query 3: Provide a creative summary for a specific source (e.g., \"dw.com\")\n",
    "if \"dw.com\" in articles:\n",
    "    prompt = f\"Provide a creative summary of today's news as presented on dw.com:\\n\\n{articles['dw.com'][:1500]}\"\n",
    "    print(\"\\n=== Query 3: Creative summary for dw.com ===\")\n",
    "    print(gemini_query(prompt))\n",
    "\n",
    "# Query 4: Analyze major news trends across all sources\n",
    "full_text = \"\\n\\n\".join(articles.values())\n",
    "prompt = (\n",
    "    \"Based on the following combined news articles from 20 major European news sources, \"\n",
    "    \"list 5 major news trends and summarize the overall current news landscape:\\n\\n\"\n",
    "    + full_text[:5000]\n",
    ")\n",
    "print(\"\\n=== Query 4: Overall European news trends ===\")\n",
    "print(gemini_query(prompt))\n",
    "\n",
    "# Query 5: Analyze how technology and AI are covered across all sources\n",
    "prompt = (\n",
    "    \"Using the following combined text from various European news sources, \"\n",
    "    \"analyze and summarize how technology and AI are being covered in today's news. \"\n",
    "    \"Highlight any emerging themes or concerns:\\n\\n\" + full_text[:5000]\n",
    ")\n",
    "print(\"\\n=== Query 5: Technology and AI coverage analysis ===\")\n",
    "print(gemini_query(prompt))"
   ]
  }
 ],
 "metadata": {
  "kernelspec": {
   "display_name": "djpyworkshop",
   "language": "python",
   "name": "python3"
  },
  "language_info": {
   "codemirror_mode": {
    "name": "ipython",
    "version": 3
   },
   "file_extension": ".py",
   "mimetype": "text/x-python",
   "name": "python",
   "nbconvert_exporter": "python",
   "pygments_lexer": "ipython3",
   "version": "3.12.9"
  }
 },
 "nbformat": 4,
 "nbformat_minor": 2
}
